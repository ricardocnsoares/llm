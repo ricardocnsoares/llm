{
 "cells": [
  {
   "cell_type": "markdown",
   "id": "1046a0b2",
   "metadata": {
    "papermill": {
     "duration": 0.006009,
     "end_time": "2024-12-18T17:51:22.252441",
     "exception": false,
     "start_time": "2024-12-18T17:51:22.246432",
     "status": "completed"
    },
    "tags": []
   },
   "source": [
    "# Text classification"
   ]
  },
  {
   "cell_type": "code",
   "execution_count": 1,
   "id": "15c8ff63",
   "metadata": {
    "execution": {
     "iopub.execute_input": "2024-12-18T17:51:22.265706Z",
     "iopub.status.busy": "2024-12-18T17:51:22.265413Z",
     "iopub.status.idle": "2024-12-18T17:51:42.993534Z",
     "shell.execute_reply": "2024-12-18T17:51:42.992604Z"
    },
    "papermill": {
     "duration": 20.736761,
     "end_time": "2024-12-18T17:51:42.995712",
     "exception": false,
     "start_time": "2024-12-18T17:51:22.258951",
     "status": "completed"
    },
    "tags": []
   },
   "outputs": [],
   "source": [
    "import numpy as np\n",
    "import pandas as pd\n",
    "import os\n",
    "import matplotlib.pyplot as plt\n",
    "import re\n",
    "import nltk\n",
    "from nltk.corpus import stopwords\n",
    "from nltk.stem import WordNetLemmatizer\n",
    "from nltk.tokenize import word_tokenize\n",
    "from tensorflow.keras.preprocessing.text import Tokenizer\n",
    "from tensorflow.keras.preprocessing.sequence import pad_sequences\n",
    "from tensorflow.keras.models import Model\n",
    "from tensorflow.keras.layers import Input, Embedding, LSTM, Dense, Concatenate\n",
    "from tensorflow.keras.optimizers import Adam\n",
    "from keras.callbacks import EarlyStopping\n",
    "import torch\n",
    "from torch.utils.data import Dataset\n",
    "from transformers import AutoTokenizer, AutoModelForSequenceClassification, Trainer, TrainingArguments, EarlyStoppingCallback\n",
    "from sklearn.model_selection import train_test_split\n",
    "from sklearn.metrics import accuracy_score"
   ]
  },
  {
   "cell_type": "code",
   "execution_count": 2,
   "id": "c1cfa97c",
   "metadata": {
    "execution": {
     "iopub.execute_input": "2024-12-18T17:51:43.008071Z",
     "iopub.status.busy": "2024-12-18T17:51:43.007505Z",
     "iopub.status.idle": "2024-12-18T17:51:43.345178Z",
     "shell.execute_reply": "2024-12-18T17:51:43.344361Z"
    },
    "papermill": {
     "duration": 0.3454,
     "end_time": "2024-12-18T17:51:43.346803",
     "exception": false,
     "start_time": "2024-12-18T17:51:43.001403",
     "status": "completed"
    },
    "tags": []
   },
   "outputs": [
    {
     "name": "stdout",
     "output_type": "stream",
     "text": [
      "[nltk_data] Downloading package punkt to /usr/share/nltk_data...\n",
      "[nltk_data]   Package punkt is already up-to-date!\n",
      "[nltk_data] Downloading package stopwords to /usr/share/nltk_data...\n",
      "[nltk_data]   Package stopwords is already up-to-date!\n",
      "[nltk_data] Downloading package wordnet to /usr/share/nltk_data...\n",
      "[nltk_data]   Package wordnet is already up-to-date!\n",
      "[nltk_data] Downloading package omw-1.4 to /usr/share/nltk_data...\n"
     ]
    },
    {
     "data": {
      "text/plain": [
       "True"
      ]
     },
     "execution_count": 2,
     "metadata": {},
     "output_type": "execute_result"
    }
   ],
   "source": [
    "# Required the first time\n",
    "nltk.download('punkt')\n",
    "nltk.download('stopwords')\n",
    "nltk.download('wordnet')\n",
    "nltk.download('omw-1.4')"
   ]
  },
  {
   "cell_type": "markdown",
   "id": "15b5fea8",
   "metadata": {
    "papermill": {
     "duration": 0.005232,
     "end_time": "2024-12-18T17:51:43.357746",
     "exception": false,
     "start_time": "2024-12-18T17:51:43.352514",
     "status": "completed"
    },
    "tags": []
   },
   "source": [
    "## Exploring data"
   ]
  },
  {
   "cell_type": "code",
   "execution_count": 3,
   "id": "73550653",
   "metadata": {
    "execution": {
     "iopub.execute_input": "2024-12-18T17:51:43.369459Z",
     "iopub.status.busy": "2024-12-18T17:51:43.369191Z",
     "iopub.status.idle": "2024-12-18T17:51:45.845837Z",
     "shell.execute_reply": "2024-12-18T17:51:45.845144Z"
    },
    "papermill": {
     "duration": 2.48463,
     "end_time": "2024-12-18T17:51:45.847730",
     "exception": false,
     "start_time": "2024-12-18T17:51:43.363100",
     "status": "completed"
    },
    "tags": []
   },
   "outputs": [],
   "source": [
    "# Ignoring index column\n",
    "df_train = pd.read_csv('/kaggle/input/fake-news-classification/train (2).csv', sep=';', usecols=['title','text','label'])\n",
    "df_eval = pd.read_csv('/kaggle/input/fake-news-classification/evaluation.csv', sep=';', usecols=['title','text','label'])\n",
    "df_test = pd.read_csv('/kaggle/input/fake-news-classification/test (1).csv', sep=';', usecols=['title','text','label'])"
   ]
  },
  {
   "cell_type": "code",
   "execution_count": 4,
   "id": "5ef7da74",
   "metadata": {
    "execution": {
     "iopub.execute_input": "2024-12-18T17:51:45.859946Z",
     "iopub.status.busy": "2024-12-18T17:51:45.859685Z",
     "iopub.status.idle": "2024-12-18T17:51:45.864074Z",
     "shell.execute_reply": "2024-12-18T17:51:45.863292Z"
    },
    "papermill": {
     "duration": 0.01219,
     "end_time": "2024-12-18T17:51:45.865742",
     "exception": false,
     "start_time": "2024-12-18T17:51:45.853552",
     "status": "completed"
    },
    "tags": []
   },
   "outputs": [
    {
     "name": "stdout",
     "output_type": "stream",
     "text": [
      "Shape train: (24353, 3)\n",
      "Shape evaluation: (8117, 3)\n",
      "Shape test: (8117, 3)\n"
     ]
    }
   ],
   "source": [
    "print('Shape train:', df_train.shape)\n",
    "print('Shape evaluation:', df_eval.shape)\n",
    "print('Shape test:', df_test.shape)"
   ]
  },
  {
   "cell_type": "code",
   "execution_count": 5,
   "id": "75f10b7a",
   "metadata": {
    "execution": {
     "iopub.execute_input": "2024-12-18T17:51:45.877413Z",
     "iopub.status.busy": "2024-12-18T17:51:45.877159Z",
     "iopub.status.idle": "2024-12-18T17:51:46.617512Z",
     "shell.execute_reply": "2024-12-18T17:51:46.616501Z"
    },
    "papermill": {
     "duration": 0.748108,
     "end_time": "2024-12-18T17:51:46.619330",
     "exception": false,
     "start_time": "2024-12-18T17:51:45.871222",
     "status": "completed"
    },
    "tags": []
   },
   "outputs": [
    {
     "name": "stdout",
     "output_type": "stream",
     "text": [
      "Distribution on label:\n",
      " label\n",
      "1    21924\n",
      "0    18663\n",
      "Name: count, dtype: int64\n",
      "Maximum title length (ignoring whitespace): 372\n",
      "Maximum text length (ignoring whitespace): 43359\n"
     ]
    }
   ],
   "source": [
    "# Union all frames for exploration\n",
    "df_full = pd.concat([df_train, df_eval, df_test])\n",
    "\n",
    "print('Distribution on label:\\n',df_full['label'].value_counts())\n",
    "\n",
    "print('Maximum title length (ignoring whitespace):',df_full['title'].str.replace(' ','').apply(len).max())\n",
    "print('Maximum text length (ignoring whitespace):',df_full['text'].str.replace(' ','').apply(len).max())"
   ]
  },
  {
   "cell_type": "markdown",
   "id": "8da06326",
   "metadata": {
    "papermill": {
     "duration": 0.005331,
     "end_time": "2024-12-18T17:51:46.630494",
     "exception": false,
     "start_time": "2024-12-18T17:51:46.625163",
     "status": "completed"
    },
    "tags": []
   },
   "source": [
    "Title seems long enough to be used, but text seems like it will need to be truncated.\n",
    "Supposing whitespace splits words, we can estimate word counting splitting whitespaces into vector of words and counting vector length."
   ]
  },
  {
   "cell_type": "code",
   "execution_count": 6,
   "id": "53ce209c",
   "metadata": {
    "execution": {
     "iopub.execute_input": "2024-12-18T17:51:46.642441Z",
     "iopub.status.busy": "2024-12-18T17:51:46.642165Z",
     "iopub.status.idle": "2024-12-18T17:51:47.718046Z",
     "shell.execute_reply": "2024-12-18T17:51:47.717049Z"
    },
    "papermill": {
     "duration": 1.085229,
     "end_time": "2024-12-18T17:51:47.721163",
     "exception": false,
     "start_time": "2024-12-18T17:51:46.635934",
     "status": "completed"
    },
    "tags": []
   },
   "outputs": [
    {
     "name": "stdout",
     "output_type": "stream",
     "text": [
      "0.20     157.0\n",
      "0.50     367.0\n",
      "0.90     746.0\n",
      "0.95     904.0\n",
      "1.00    8135.0\n",
      "Name: text, dtype: float64\n"
     ]
    },
    {
     "data": {
      "text/plain": [
       "<Axes: >"
      ]
     },
     "execution_count": 6,
     "metadata": {},
     "output_type": "execute_result"
    },
    {
     "data": {
      "image/png": "[encoded data removed]",
      "text/plain": [
       "<Figure size 640x480 with 1 Axes>"
      ]
     },
     "metadata": {},
     "output_type": "display_data"
    }
   ],
   "source": [
    "# Distribution of text number of words\n",
    "text_len_series = df_full['text'].apply(lambda x: len(x.split()))\n",
    "print(text_len_series.quantile([0.2,0.5,0.9,0.95,1]))\n",
    "\n",
    "text_len_series.plot.box(yticks=np.arange(0,10000, step=1000), grid=True)"
   ]
  },
  {
   "cell_type": "markdown",
   "id": "320b7814",
   "metadata": {
    "papermill": {
     "duration": 0.018516,
     "end_time": "2024-12-18T17:51:47.758198",
     "exception": false,
     "start_time": "2024-12-18T17:51:47.739682",
     "status": "completed"
    },
    "tags": []
   },
   "source": [
    "Half of the texts have at least around 370 words and 90% of the texts have around 750 words. Seems like texts are mostly long enough for tokenizer use too. After this quick exploration, let's start with NLP!"
   ]
  },
  {
   "cell_type": "markdown",
   "id": "15ce93ec",
   "metadata": {
    "papermill": {
     "duration": 0.005709,
     "end_time": "2024-12-18T17:51:47.773854",
     "exception": false,
     "start_time": "2024-12-18T17:51:47.768145",
     "status": "completed"
    },
    "tags": []
   },
   "source": [
    "## NLP & LSTM"
   ]
  },
  {
   "cell_type": "markdown",
   "id": "71fec55d",
   "metadata": {
    "papermill": {
     "duration": 0.005683,
     "end_time": "2024-12-18T17:51:47.785366",
     "exception": false,
     "start_time": "2024-12-18T17:51:47.779683",
     "status": "completed"
    },
    "tags": []
   },
   "source": [
    "### NLP"
   ]
  },
  {
   "cell_type": "code",
   "execution_count": 7,
   "id": "cd26b800",
   "metadata": {
    "execution": {
     "iopub.execute_input": "2024-12-18T17:51:47.798517Z",
     "iopub.status.busy": "2024-12-18T17:51:47.798231Z",
     "iopub.status.idle": "2024-12-18T17:51:47.804907Z",
     "shell.execute_reply": "2024-12-18T17:51:47.804239Z"
    },
    "papermill": {
     "duration": 0.015019,
     "end_time": "2024-12-18T17:51:47.806459",
     "exception": false,
     "start_time": "2024-12-18T17:51:47.791440",
     "status": "completed"
    },
    "tags": []
   },
   "outputs": [],
   "source": [
    "def plot_training_performance(history):\n",
    "    # Extract loss and accuracy\n",
    "    loss = history.history['loss']\n",
    "    val_loss = history.history['val_loss']\n",
    "    accuracy = history.history.get('accuracy', history.history.get('binary_accuracy'))\n",
    "    val_accuracy = history.history.get('val_accuracy', history.history.get('val_binary_accuracy'))\n",
    "\n",
    "    # Plot loss\n",
    "    plt.figure(figsize=(12, 5))\n",
    "\n",
    "    # Subplot 1: Loss\n",
    "    plt.subplot(1, 2, 1)\n",
    "    plt.plot(loss, label='Training Loss', marker='o')\n",
    "    plt.plot(val_loss, label='Validation Loss', marker='o')\n",
    "    plt.title('Loss Over Epochs')\n",
    "    plt.xlabel('Epochs')\n",
    "    plt.ylabel('Loss')\n",
    "    plt.legend()\n",
    "    plt.grid()\n",
    "\n",
    "    # Subplot 2: Accuracy\n",
    "    plt.subplot(1, 2, 2)\n",
    "    plt.plot(accuracy, label='Training Accuracy', marker='o')\n",
    "    plt.plot(val_accuracy, label='Validation Accuracy', marker='o')\n",
    "    plt.title('Accuracy Over Epochs')\n",
    "    plt.xlabel('Epochs')\n",
    "    plt.ylabel('Accuracy')\n",
    "    plt.legend()\n",
    "    plt.grid()\n",
    "\n",
    "    # Show the plot\n",
    "    plt.tight_layout()\n",
    "    plt.show()"
   ]
  },
  {
   "cell_type": "code",
   "execution_count": 8,
   "id": "5c905847",
   "metadata": {
    "execution": {
     "iopub.execute_input": "2024-12-18T17:51:47.819274Z",
     "iopub.status.busy": "2024-12-18T17:51:47.818988Z",
     "iopub.status.idle": "2024-12-18T17:51:47.825248Z",
     "shell.execute_reply": "2024-12-18T17:51:47.824425Z"
    },
    "papermill": {
     "duration": 0.01441,
     "end_time": "2024-12-18T17:51:47.826908",
     "exception": false,
     "start_time": "2024-12-18T17:51:47.812498",
     "status": "completed"
    },
    "tags": []
   },
   "outputs": [],
   "source": [
    "class TextPreprocessor:\n",
    "    def __init__(self, language='english'):\n",
    "        self.stop_words = set(stopwords.words(language))\n",
    "        self.lemmatizer = WordNetLemmatizer()\n",
    "\n",
    "    def NormalizeTextCol(self, text):\n",
    "        \"\"\"Run the entire pipeline (normalize, tokenize, remove stopwords, lemmatize).\"\"\"\n",
    "        text = self.normalize_text(text)\n",
    "        tokens = self.tokenize(text)\n",
    "        tokens = self.remove_stopwords(tokens)\n",
    "        # tokens = self.lemmatize_tokens(tokens)\n",
    "        return tokens\n",
    "\n",
    "    def normalize_text(self, text):\n",
    "        \"\"\"Normalize the text by converting to lowercase and removing punctuation and digits.\"\"\"\n",
    "        text = text.lower()  # Convert to lowercase\n",
    "        text = re.sub(r'[^\\w\\s]', '', text)  # Remove punctuation and special characters\n",
    "        text = re.sub(r'\\d+', '', text)  # Remove numbers\n",
    "        return text\n",
    "\n",
    "    def tokenize(self, text):\n",
    "        \"\"\"Tokenize the text into individual words.\"\"\"\n",
    "        return word_tokenize(text)\n",
    "\n",
    "    def remove_stopwords(self, tokens):\n",
    "        \"\"\"Remove stopwords from the tokenized text.\"\"\"\n",
    "        return [word for word in tokens if word not in self.stop_words]\n",
    "\n",
    "    def lemmatize_tokens(self, tokens):\n",
    "        \"\"\"Lemmatize the tokens.\"\"\"\n",
    "        return [self.lemmatizer.lemmatize(word) for word in tokens]"
   ]
  },
  {
   "cell_type": "code",
   "execution_count": 9,
   "id": "4c04a232",
   "metadata": {
    "execution": {
     "iopub.execute_input": "2024-12-18T17:51:47.839487Z",
     "iopub.status.busy": "2024-12-18T17:51:47.839243Z",
     "iopub.status.idle": "2024-12-18T17:51:47.844735Z",
     "shell.execute_reply": "2024-12-18T17:51:47.844178Z"
    },
    "papermill": {
     "duration": 0.013431,
     "end_time": "2024-12-18T17:51:47.846213",
     "exception": false,
     "start_time": "2024-12-18T17:51:47.832782",
     "status": "completed"
    },
    "tags": []
   },
   "outputs": [],
   "source": [
    "class_text_normalizer = TextPreprocessor()"
   ]
  },
  {
   "cell_type": "code",
   "execution_count": 10,
   "id": "937ce5b7",
   "metadata": {
    "execution": {
     "iopub.execute_input": "2024-12-18T17:51:47.859260Z",
     "iopub.status.busy": "2024-12-18T17:51:47.858475Z",
     "iopub.status.idle": "2024-12-18T17:51:47.864912Z",
     "shell.execute_reply": "2024-12-18T17:51:47.864322Z"
    },
    "papermill": {
     "duration": 0.014344,
     "end_time": "2024-12-18T17:51:47.866478",
     "exception": false,
     "start_time": "2024-12-18T17:51:47.852134",
     "status": "completed"
    },
    "tags": []
   },
   "outputs": [],
   "source": [
    "#Union eval and train\n",
    "df_train = pd.concat([df_train, df_eval])"
   ]
  },
  {
   "cell_type": "code",
   "execution_count": 11,
   "id": "45250461",
   "metadata": {
    "execution": {
     "iopub.execute_input": "2024-12-18T17:51:47.879231Z",
     "iopub.status.busy": "2024-12-18T17:51:47.878965Z",
     "iopub.status.idle": "2024-12-18T17:52:50.368800Z",
     "shell.execute_reply": "2024-12-18T17:52:50.368044Z"
    },
    "papermill": {
     "duration": 62.498552,
     "end_time": "2024-12-18T17:52:50.370979",
     "exception": false,
     "start_time": "2024-12-18T17:51:47.872427",
     "status": "completed"
    },
    "tags": []
   },
   "outputs": [],
   "source": [
    "df_train['pre_processed_title'] = df_train['title'].apply(class_text_normalizer.NormalizeTextCol)\n",
    "df_train['pre_processed_text'] = df_train['text'].apply(class_text_normalizer.NormalizeTextCol)\n",
    "\n",
    "df_test['pre_processed_title'] = df_test['title'].apply(class_text_normalizer.NormalizeTextCol)\n",
    "df_test['pre_processed_text'] = df_test['text'].apply(class_text_normalizer.NormalizeTextCol)"
   ]
  },
  {
   "cell_type": "markdown",
   "id": "d14ee2a6",
   "metadata": {
    "papermill": {
     "duration": 0.005758,
     "end_time": "2024-12-18T17:52:50.383119",
     "exception": false,
     "start_time": "2024-12-18T17:52:50.377361",
     "status": "completed"
    },
    "tags": []
   },
   "source": [
    "### LSTM"
   ]
  },
  {
   "cell_type": "code",
   "execution_count": 12,
   "id": "37557e3a",
   "metadata": {
    "execution": {
     "iopub.execute_input": "2024-12-18T17:52:50.396321Z",
     "iopub.status.busy": "2024-12-18T17:52:50.395808Z",
     "iopub.status.idle": "2024-12-18T17:52:56.583218Z",
     "shell.execute_reply": "2024-12-18T17:52:56.582215Z"
    },
    "papermill": {
     "duration": 6.196194,
     "end_time": "2024-12-18T17:52:56.585294",
     "exception": false,
     "start_time": "2024-12-18T17:52:50.389100",
     "status": "completed"
    },
    "tags": []
   },
   "outputs": [],
   "source": [
    "title_tokenizer = Tokenizer()\n",
    "title_tokenizer.fit_on_texts(df_train['pre_processed_title'].apply(lambda x: ' '.join(x)))\n",
    "\n",
    "text_tokenizer = Tokenizer()\n",
    "text_tokenizer.fit_on_texts(df_train['pre_processed_text'].apply(lambda x: ' '.join(x)))"
   ]
  },
  {
   "cell_type": "code",
   "execution_count": 13,
   "id": "6cab92fe",
   "metadata": {
    "execution": {
     "iopub.execute_input": "2024-12-18T17:52:56.598741Z",
     "iopub.status.busy": "2024-12-18T17:52:56.598444Z",
     "iopub.status.idle": "2024-12-18T17:53:00.568708Z",
     "shell.execute_reply": "2024-12-18T17:53:00.567729Z"
    },
    "papermill": {
     "duration": 3.97898,
     "end_time": "2024-12-18T17:53:00.570654",
     "exception": false,
     "start_time": "2024-12-18T17:52:56.591674",
     "status": "completed"
    },
    "tags": []
   },
   "outputs": [],
   "source": [
    "# Convert titles and texts to sequences\n",
    "train_title_sequences = title_tokenizer.texts_to_sequences(df_train['pre_processed_title'].apply(lambda x: ' '.join(x)))\n",
    "train_text_sequences = text_tokenizer.texts_to_sequences(df_train['pre_processed_text'].apply(lambda x: ' '.join(x)))\n",
    "\n",
    "test_title_sequences = title_tokenizer.texts_to_sequences(df_test['pre_processed_title'].apply(lambda x: ' '.join(x)))\n",
    "test_text_sequences = text_tokenizer.texts_to_sequences(df_test['pre_processed_text'].apply(lambda x: ' '.join(x)))"
   ]
  },
  {
   "cell_type": "code",
   "execution_count": 14,
   "id": "a7d1f340",
   "metadata": {
    "execution": {
     "iopub.execute_input": "2024-12-18T17:53:00.583903Z",
     "iopub.status.busy": "2024-12-18T17:53:00.583617Z",
     "iopub.status.idle": "2024-12-18T17:53:01.108972Z",
     "shell.execute_reply": "2024-12-18T17:53:01.108237Z"
    },
    "papermill": {
     "duration": 0.533991,
     "end_time": "2024-12-18T17:53:01.110905",
     "exception": false,
     "start_time": "2024-12-18T17:53:00.576914",
     "status": "completed"
    },
    "tags": []
   },
   "outputs": [],
   "source": [
    "# Define maximum length for title and text\n",
    "max_title_length = 64\n",
    "max_text_length = 725\n",
    "\n",
    "# Pad sequences to ensure consistent input size\n",
    "X_train_title = pad_sequences(train_title_sequences, maxlen=max_title_length, padding='pre', truncating='pre')\n",
    "X_train_text = pad_sequences(train_text_sequences, maxlen=max_text_length, padding='pre', truncating='pre')\n",
    "\n",
    "X_test_title = pad_sequences(test_title_sequences, maxlen=max_title_length, padding='pre', truncating='pre')\n",
    "X_test_text = pad_sequences(test_text_sequences, maxlen=max_text_length, padding='pre', truncating='pre')\n",
    "\n",
    "y_train = df_train['label'].values\n",
    "y_test = df_test['label'].values"
   ]
  },
  {
   "cell_type": "code",
   "execution_count": 15,
   "id": "57cc64fd",
   "metadata": {
    "execution": {
     "iopub.execute_input": "2024-12-18T17:53:01.124235Z",
     "iopub.status.busy": "2024-12-18T17:53:01.123933Z",
     "iopub.status.idle": "2024-12-18T17:53:02.328042Z",
     "shell.execute_reply": "2024-12-18T17:53:02.327060Z"
    },
    "papermill": {
     "duration": 1.213407,
     "end_time": "2024-12-18T17:53:02.330625",
     "exception": false,
     "start_time": "2024-12-18T17:53:01.117218",
     "status": "completed"
    },
    "tags": []
   },
   "outputs": [],
   "source": [
    "# Define the LSTM model with two inputs for 'title' and 'text'\n",
    "title_input = Input(shape=(max_title_length,), name='Title_Input')\n",
    "text_input = Input(shape=(max_text_length,), name='Text_Input')\n",
    "\n",
    "# Embedding and LSTM layers for each input\n",
    "embedding_layer_title = Embedding(input_dim=len(title_tokenizer.word_index) + 1, output_dim=100)(title_input)\n",
    "lstm_title = LSTM(64)(embedding_layer_title)\n",
    "\n",
    "embedding_layer_text = Embedding(input_dim=len(text_tokenizer.word_index) + 1, output_dim=100)(text_input)\n",
    "lstm_text = LSTM(128)(embedding_layer_text)\n",
    "\n",
    "# Combine the outputs of both LSTM layers\n",
    "combined = Concatenate()([lstm_title, lstm_text])\n",
    "\n",
    "# Add a dense output layer for binary classification\n",
    "output = Dense(1, activation='sigmoid')(combined)\n",
    "\n",
    "# Build the model\n",
    "model = Model(inputs=[title_input, text_input], outputs=output)\n",
    "\n",
    "# Compile the model\n",
    "model.compile(optimizer=Adam(learning_rate=0.001), loss='binary_crossentropy', metrics=['accuracy'])"
   ]
  },
  {
   "cell_type": "code",
   "execution_count": 16,
   "id": "2110acbe",
   "metadata": {
    "execution": {
     "iopub.execute_input": "2024-12-18T17:53:02.350059Z",
     "iopub.status.busy": "2024-12-18T17:53:02.349747Z",
     "iopub.status.idle": "2024-12-18T17:53:02.353872Z",
     "shell.execute_reply": "2024-12-18T17:53:02.353054Z"
    },
    "papermill": {
     "duration": 0.013809,
     "end_time": "2024-12-18T17:53:02.355976",
     "exception": false,
     "start_time": "2024-12-18T17:53:02.342167",
     "status": "completed"
    },
    "tags": []
   },
   "outputs": [],
   "source": [
    "early_stopping = EarlyStopping(\n",
    "    monitor='val_accuracy',\n",
    "    min_delta=0.02,\n",
    "    patience=1,\n",
    "    verbose=1,\n",
    "    restore_best_weights=True\n",
    ")"
   ]
  },
  {
   "cell_type": "code",
   "execution_count": 17,
   "id": "fc51ec1a",
   "metadata": {
    "execution": {
     "iopub.execute_input": "2024-12-18T17:53:02.376772Z",
     "iopub.status.busy": "2024-12-18T17:53:02.376161Z",
     "iopub.status.idle": "2024-12-18T17:53:51.692911Z",
     "shell.execute_reply": "2024-12-18T17:53:51.692154Z"
    },
    "papermill": {
     "duration": 49.327607,
     "end_time": "2024-12-18T17:53:51.694963",
     "exception": false,
     "start_time": "2024-12-18T17:53:02.367356",
     "status": "completed"
    },
    "tags": []
   },
   "outputs": [
    {
     "name": "stdout",
     "output_type": "stream",
     "text": [
      "Epoch 1/5\n",
      "\u001b[1m406/406\u001b[0m \u001b[32m━━━━━━━━━━━━━━━━━━━━\u001b[0m\u001b[37m\u001b[0m \u001b[1m27s\u001b[0m 56ms/step - accuracy: 0.9035 - loss: 0.2344 - val_accuracy: 0.9791 - val_loss: 0.0723\n",
      "Epoch 2/5\n",
      "\u001b[1m406/406\u001b[0m \u001b[32m━━━━━━━━━━━━━━━━━━━━\u001b[0m\u001b[37m\u001b[0m \u001b[1m22s\u001b[0m 55ms/step - accuracy: 0.9864 - loss: 0.0427 - val_accuracy: 0.9720 - val_loss: 0.0800\n",
      "Epoch 2: early stopping\n",
      "Restoring model weights from the end of the best epoch: 1.\n"
     ]
    }
   ],
   "source": [
    "# Train the model\n",
    "fit_history = model.fit(\n",
    "    [X_train_title, X_train_text], y_train,\n",
    "    epochs=5, batch_size=64, validation_split=0.2, verbose=1, callbacks=[early_stopping]\n",
    ")"
   ]
  },
  {
   "cell_type": "code",
   "execution_count": 18,
   "id": "366187b5",
   "metadata": {
    "execution": {
     "iopub.execute_input": "2024-12-18T17:53:51.774793Z",
     "iopub.status.busy": "2024-12-18T17:53:51.773939Z",
     "iopub.status.idle": "2024-12-18T17:53:52.264342Z",
     "shell.execute_reply": "2024-12-18T17:53:52.263474Z"
    },
    "papermill": {
     "duration": 0.531872,
     "end_time": "2024-12-18T17:53:52.266532",
     "exception": false,
     "start_time": "2024-12-18T17:53:51.734660",
     "status": "completed"
    },
    "tags": []
   },
   "outputs": [
    {
     "data": {
      "image/png": "[encoded data removed]",
      "text/plain": [
       "<Figure size 1200x500 with 2 Axes>"
      ]
     },
     "metadata": {},
     "output_type": "display_data"
    }
   ],
   "source": [
    "plot_training_performance(fit_history)"
   ]
  },
  {
   "cell_type": "code",
   "execution_count": 19,
   "id": "c7c00667",
   "metadata": {
    "execution": {
     "iopub.execute_input": "2024-12-18T17:53:52.346673Z",
     "iopub.status.busy": "2024-12-18T17:53:52.346349Z",
     "iopub.status.idle": "2024-12-18T17:53:56.642928Z",
     "shell.execute_reply": "2024-12-18T17:53:56.641926Z"
    },
    "papermill": {
     "duration": 4.338828,
     "end_time": "2024-12-18T17:53:56.644712",
     "exception": false,
     "start_time": "2024-12-18T17:53:52.305884",
     "status": "completed"
    },
    "tags": []
   },
   "outputs": [
    {
     "name": "stdout",
     "output_type": "stream",
     "text": [
      "Test Accuracy: 0.9825\n"
     ]
    }
   ],
   "source": [
    "# Evaluate the model on test data\n",
    "loss, accuracy = model.evaluate([X_test_title, X_test_text], y_test, verbose=0)\n",
    "print(f\"Test Accuracy: {accuracy:.4f}\")"
   ]
  },
  {
   "cell_type": "markdown",
   "id": "865d3734",
   "metadata": {
    "papermill": {
     "duration": 0.038908,
     "end_time": "2024-12-18T17:53:56.723670",
     "exception": false,
     "start_time": "2024-12-18T17:53:56.684762",
     "status": "completed"
    },
    "tags": []
   },
   "source": [
    "LSTM model got a really nice score on test dataframe. Now let's see how a transformers model deal with this classification task."
   ]
  },
  {
   "cell_type": "markdown",
   "id": "5c741e72",
   "metadata": {
    "papermill": {
     "duration": 0.039124,
     "end_time": "2024-12-18T17:53:56.801491",
     "exception": false,
     "start_time": "2024-12-18T17:53:56.762367",
     "status": "completed"
    },
    "tags": []
   },
   "source": [
    "## Loading transformers models from HuggingFace"
   ]
  },
  {
   "cell_type": "code",
   "execution_count": 20,
   "id": "e17096a6",
   "metadata": {
    "execution": {
     "iopub.execute_input": "2024-12-18T17:53:56.917429Z",
     "iopub.status.busy": "2024-12-18T17:53:56.916749Z",
     "iopub.status.idle": "2024-12-18T17:54:01.340694Z",
     "shell.execute_reply": "2024-12-18T17:54:01.340023Z"
    },
    "papermill": {
     "duration": 4.502038,
     "end_time": "2024-12-18T17:54:01.342444",
     "exception": false,
     "start_time": "2024-12-18T17:53:56.840406",
     "status": "completed"
    },
    "tags": []
   },
   "outputs": [
    {
     "data": {
      "application/vnd.jupyter.widget-view+json": {
       "model_id": "ede3b1514ae54606920c252c5dd80419",
       "version_major": 2,
       "version_minor": 0
      },
      "text/plain": [
       "tokenizer_config.json:   0%|          | 0.00/48.0 [00:00<?, ?B/s]"
      ]
     },
     "metadata": {},
     "output_type": "display_data"
    },
    {
     "data": {
      "application/vnd.jupyter.widget-view+json": {
       "model_id": "a9736d9edcc845f99419b4f3188d34e5",
       "version_major": 2,
       "version_minor": 0
      },
      "text/plain": [
       "config.json:   0%|          | 0.00/483 [00:00<?, ?B/s]"
      ]
     },
     "metadata": {},
     "output_type": "display_data"
    },
    {
     "data": {
      "application/vnd.jupyter.widget-view+json": {
       "model_id": "63b0690a2e1948c687f35be1f262b8eb",
       "version_major": 2,
       "version_minor": 0
      },
      "text/plain": [
       "vocab.txt:   0%|          | 0.00/232k [00:00<?, ?B/s]"
      ]
     },
     "metadata": {},
     "output_type": "display_data"
    },
    {
     "data": {
      "application/vnd.jupyter.widget-view+json": {
       "model_id": "ce611e99a8084673b899d5bc16511831",
       "version_major": 2,
       "version_minor": 0
      },
      "text/plain": [
       "tokenizer.json:   0%|          | 0.00/466k [00:00<?, ?B/s]"
      ]
     },
     "metadata": {},
     "output_type": "display_data"
    },
    {
     "data": {
      "application/vnd.jupyter.widget-view+json": {
       "model_id": "a11950edad114605bf67c4dd83d572d0",
       "version_major": 2,
       "version_minor": 0
      },
      "text/plain": [
       "model.safetensors:   0%|          | 0.00/268M [00:00<?, ?B/s]"
      ]
     },
     "metadata": {},
     "output_type": "display_data"
    },
    {
     "name": "stderr",
     "output_type": "stream",
     "text": [
      "Some weights of DistilBertForSequenceClassification were not initialized from the model checkpoint at distilbert-base-uncased and are newly initialized: ['classifier.bias', 'classifier.weight', 'pre_classifier.bias', 'pre_classifier.weight']\n",
      "You should probably TRAIN this model on a down-stream task to be able to use it for predictions and inference.\n"
     ]
    }
   ],
   "source": [
    "# Load tokenizer and pre-trained model\n",
    "tokenizer = AutoTokenizer.from_pretrained(\"distilbert-base-uncased\")\n",
    "model = AutoModelForSequenceClassification.from_pretrained(\"distilbert-base-uncased\", num_labels=2)\n",
    "\n",
    "# Freezing pre-trained params\n",
    "for param in model.base_model.parameters():\n",
    "    param.requires_grad = False"
   ]
  },
  {
   "cell_type": "code",
   "execution_count": 21,
   "id": "3adef2f6",
   "metadata": {
    "execution": {
     "iopub.execute_input": "2024-12-18T17:54:01.424353Z",
     "iopub.status.busy": "2024-12-18T17:54:01.423727Z",
     "iopub.status.idle": "2024-12-18T17:54:01.430819Z",
     "shell.execute_reply": "2024-12-18T17:54:01.429955Z"
    },
    "papermill": {
     "duration": 0.049405,
     "end_time": "2024-12-18T17:54:01.432427",
     "exception": false,
     "start_time": "2024-12-18T17:54:01.383022",
     "status": "completed"
    },
    "tags": []
   },
   "outputs": [],
   "source": [
    "class TextPairDataset(Dataset):\n",
    "    def __init__(self, dataframe, tokenizer, max_title_length, max_text_length):\n",
    "        self.data = dataframe\n",
    "        self.tokenizer = tokenizer\n",
    "        self.max_title_length = max_title_length\n",
    "        self.max_text_length = max_text_length\n",
    "    \n",
    "    def __len__(self):\n",
    "        return len(self.data)\n",
    "    \n",
    "    def __getitem__(self, idx):\n",
    "        title = str(self.data.iloc[idx]['title'])\n",
    "        text = str(self.data.iloc[idx]['text'])\n",
    "        label = int(self.data.iloc[idx]['label'])\n",
    "\n",
    "        # Tokenize title and text\n",
    "        title_encoding = self.tokenizer(\n",
    "            title,\n",
    "            truncation=True,\n",
    "            padding='max_length',\n",
    "            max_length=self.max_title_length,\n",
    "            return_tensors='pt'\n",
    "        )\n",
    "\n",
    "        text_encoding = self.tokenizer(\n",
    "            text,\n",
    "            truncation=True,\n",
    "            padding='max_length',\n",
    "            max_length=self.max_text_length,\n",
    "            return_tensors='pt'\n",
    "        )\n",
    "        \n",
    "        # Return tokenized input and label\n",
    "        return {\n",
    "            'input_ids': title_encoding['input_ids'].flatten(),  \n",
    "            'attention_mask': title_encoding['attention_mask'].flatten(),\n",
    "            'text_input_ids': text_encoding['input_ids'].flatten(),\n",
    "            'text_attention_mask': text_encoding['attention_mask'].flatten(),\n",
    "            'label': torch.tensor(label, dtype=torch.long)\n",
    "        }"
   ]
  },
  {
   "cell_type": "code",
   "execution_count": 22,
   "id": "fb504b77",
   "metadata": {
    "execution": {
     "iopub.execute_input": "2024-12-18T17:54:01.513366Z",
     "iopub.status.busy": "2024-12-18T17:54:01.512958Z",
     "iopub.status.idle": "2024-12-18T17:54:01.517544Z",
     "shell.execute_reply": "2024-12-18T17:54:01.516693Z"
    },
    "papermill": {
     "duration": 0.046955,
     "end_time": "2024-12-18T17:54:01.519141",
     "exception": false,
     "start_time": "2024-12-18T17:54:01.472186",
     "status": "completed"
    },
    "tags": []
   },
   "outputs": [],
   "source": [
    "# Using eval_accuracy as transformers evaluation metric for early stopping\n",
    "def compute_metrics(eval_pred):\n",
    "    logits, labels = eval_pred\n",
    "    predictions = logits.argmax(axis=-1)\n",
    "    accuracy = accuracy_score(labels, predictions)\n",
    "    return {\n",
    "        \"eval_accuracy\": accuracy\n",
    "    }"
   ]
  },
  {
   "cell_type": "code",
   "execution_count": 23,
   "id": "31aac0ab",
   "metadata": {
    "execution": {
     "iopub.execute_input": "2024-12-18T17:54:01.601695Z",
     "iopub.status.busy": "2024-12-18T17:54:01.601361Z",
     "iopub.status.idle": "2024-12-18T17:54:01.624227Z",
     "shell.execute_reply": "2024-12-18T17:54:01.623295Z"
    },
    "papermill": {
     "duration": 0.065573,
     "end_time": "2024-12-18T17:54:01.626082",
     "exception": false,
     "start_time": "2024-12-18T17:54:01.560509",
     "status": "completed"
    },
    "tags": []
   },
   "outputs": [],
   "source": [
    "# Splitting train and eval for Trainer\n",
    "df_train, df_eval = train_test_split(df_train, test_size=0.2, random_state=42)\n",
    "\n",
    "# Creat datasets for Pytorch\n",
    "train_dataset = TextPairDataset(df_train, tokenizer, max_title_length=max_title_length, max_text_length=max_text_length)\n",
    "\n",
    "eval_dataset = TextPairDataset(df_train, tokenizer, max_title_length=max_title_length, max_text_length=max_text_length)\n",
    "\n",
    "test_dataset = TextPairDataset(df_test, tokenizer, max_title_length=max_title_length, max_text_length=max_text_length)"
   ]
  },
  {
   "cell_type": "code",
   "execution_count": 24,
   "id": "7f1bf5c4",
   "metadata": {
    "execution": {
     "iopub.execute_input": "2024-12-18T17:54:01.709240Z",
     "iopub.status.busy": "2024-12-18T17:54:01.708561Z",
     "iopub.status.idle": "2024-12-18T17:54:01.762661Z",
     "shell.execute_reply": "2024-12-18T17:54:01.761674Z"
    },
    "papermill": {
     "duration": 0.098049,
     "end_time": "2024-12-18T17:54:01.764576",
     "exception": false,
     "start_time": "2024-12-18T17:54:01.666527",
     "status": "completed"
    },
    "tags": []
   },
   "outputs": [],
   "source": [
    "training_args = TrainingArguments(\n",
    "    output_dir='./results',\n",
    "    num_train_epochs=5,\n",
    "    per_device_train_batch_size=32,\n",
    "    per_device_eval_batch_size=32,\n",
    "    learning_rate=0.001,\n",
    "    eval_strategy=\"epoch\",\n",
    "    save_strategy=\"epoch\",\n",
    "    report_to=\"none\",\n",
    "    load_best_model_at_end=True,\n",
    "    metric_for_best_model=\"eval_accuracy\"\n",
    ")\n",
    "\n",
    "early_stopping_transformers = EarlyStoppingCallback(early_stopping_patience=2, early_stopping_threshold=0.02)"
   ]
  },
  {
   "cell_type": "code",
   "execution_count": 25,
   "id": "bb7708c4",
   "metadata": {
    "execution": {
     "iopub.execute_input": "2024-12-18T17:54:01.847387Z",
     "iopub.status.busy": "2024-12-18T17:54:01.846801Z",
     "iopub.status.idle": "2024-12-18T17:54:02.215555Z",
     "shell.execute_reply": "2024-12-18T17:54:02.214816Z"
    },
    "papermill": {
     "duration": 0.412025,
     "end_time": "2024-12-18T17:54:02.217541",
     "exception": false,
     "start_time": "2024-12-18T17:54:01.805516",
     "status": "completed"
    },
    "tags": []
   },
   "outputs": [],
   "source": [
    "trainer = Trainer(\n",
    "    model=model,\n",
    "    args=training_args,\n",
    "    train_dataset=train_dataset,\n",
    "    eval_dataset=eval_dataset,\n",
    "    compute_metrics=compute_metrics,\n",
    "    callbacks=[early_stopping_transformers]\n",
    ")"
   ]
  },
  {
   "cell_type": "code",
   "execution_count": 26,
   "id": "dc736e7a",
   "metadata": {
    "execution": {
     "iopub.execute_input": "2024-12-18T17:54:02.299713Z",
     "iopub.status.busy": "2024-12-18T17:54:02.299407Z",
     "iopub.status.idle": "2024-12-18T18:02:46.168186Z",
     "shell.execute_reply": "2024-12-18T18:02:46.167330Z"
    },
    "papermill": {
     "duration": 523.911419,
     "end_time": "2024-12-18T18:02:46.169752",
     "exception": false,
     "start_time": "2024-12-18T17:54:02.258333",
     "status": "completed"
    },
    "tags": []
   },
   "outputs": [
    {
     "data": {
      "text/html": [
       "\n",
       "    <div>\n",
       "      \n",
       "      <progress value='2436' max='4060' style='width:300px; height:20px; vertical-align: middle;'></progress>\n",
       "      [2436/4060 08:42 < 05:48, 4.66 it/s, Epoch 3/5]\n",
       "    </div>\n",
       "    <table border=\"1\" class=\"dataframe\">\n",
       "  <thead>\n",
       " <tr style=\"text-align: left;\">\n",
       "      <th>Epoch</th>\n",
       "      <th>Training Loss</th>\n",
       "      <th>Validation Loss</th>\n",
       "      <th>Accuracy</th>\n",
       "    </tr>\n",
       "  </thead>\n",
       "  <tbody>\n",
       "    <tr>\n",
       "      <td>1</td>\n",
       "      <td>0.243900</td>\n",
       "      <td>0.191598</td>\n",
       "      <td>0.922929</td>\n",
       "    </tr>\n",
       "    <tr>\n",
       "      <td>2</td>\n",
       "      <td>0.185500</td>\n",
       "      <td>0.147182</td>\n",
       "      <td>0.941869</td>\n",
       "    </tr>\n",
       "    <tr>\n",
       "      <td>3</td>\n",
       "      <td>0.179200</td>\n",
       "      <td>0.142400</td>\n",
       "      <td>0.943332</td>\n",
       "    </tr>\n",
       "  </tbody>\n",
       "</table><p>"
      ],
      "text/plain": [
       "<IPython.core.display.HTML object>"
      ]
     },
     "metadata": {},
     "output_type": "display_data"
    },
    {
     "data": {
      "text/plain": [
       "TrainOutput(global_step=2436, training_loss=0.19442153329332473, metrics={'train_runtime': 523.1796, 'train_samples_per_second': 248.251, 'train_steps_per_second': 7.76, 'total_flos': 1290364930308096.0, 'train_loss': 0.19442153329332473, 'epoch': 3.0})"
      ]
     },
     "execution_count": 26,
     "metadata": {},
     "output_type": "execute_result"
    }
   ],
   "source": [
    "trainer.train()"
   ]
  },
  {
   "cell_type": "code",
   "execution_count": 27,
   "id": "187de38e",
   "metadata": {
    "execution": {
     "iopub.execute_input": "2024-12-18T18:02:46.251579Z",
     "iopub.status.busy": "2024-12-18T18:02:46.251267Z",
     "iopub.status.idle": "2024-12-18T18:04:12.251756Z",
     "shell.execute_reply": "2024-12-18T18:04:12.250989Z"
    },
    "papermill": {
     "duration": 86.043052,
     "end_time": "2024-12-18T18:04:12.253304",
     "exception": false,
     "start_time": "2024-12-18T18:02:46.210252",
     "status": "completed"
    },
    "tags": []
   },
   "outputs": [
    {
     "data": {
      "text/html": [
       "\n",
       "    <div>\n",
       "      \n",
       "      <progress value='1066' max='812' style='width:300px; height:20px; vertical-align: middle;'></progress>\n",
       "      [812/812 01:52]\n",
       "    </div>\n",
       "    "
      ],
      "text/plain": [
       "<IPython.core.display.HTML object>"
      ]
     },
     "metadata": {},
     "output_type": "display_data"
    },
    {
     "data": {
      "text/plain": [
       "{'eval_accuracy': 0.9433323067446874,\n",
       " 'eval_loss': 0.14240029454231262,\n",
       " 'eval_runtime': 85.9946,\n",
       " 'eval_samples_per_second': 302.066,\n",
       " 'eval_steps_per_second': 9.442,\n",
       " 'epoch': 3.0}"
      ]
     },
     "execution_count": 27,
     "metadata": {},
     "output_type": "execute_result"
    }
   ],
   "source": [
    "trainer.evaluate()"
   ]
  },
  {
   "cell_type": "code",
   "execution_count": 28,
   "id": "13260c10",
   "metadata": {
    "execution": {
     "iopub.execute_input": "2024-12-18T18:04:12.335219Z",
     "iopub.status.busy": "2024-12-18T18:04:12.334566Z",
     "iopub.status.idle": "2024-12-18T18:04:39.238251Z",
     "shell.execute_reply": "2024-12-18T18:04:39.237488Z"
    },
    "papermill": {
     "duration": 26.945957,
     "end_time": "2024-12-18T18:04:39.240049",
     "exception": false,
     "start_time": "2024-12-18T18:04:12.294092",
     "status": "completed"
    },
    "tags": []
   },
   "outputs": [],
   "source": [
    "results = trainer.evaluate(test_dataset)"
   ]
  },
  {
   "cell_type": "code",
   "execution_count": 29,
   "id": "bb9c6118",
   "metadata": {
    "execution": {
     "iopub.execute_input": "2024-12-18T18:04:39.325065Z",
     "iopub.status.busy": "2024-12-18T18:04:39.324512Z",
     "iopub.status.idle": "2024-12-18T18:04:39.329969Z",
     "shell.execute_reply": "2024-12-18T18:04:39.329159Z"
    },
    "papermill": {
     "duration": 0.050112,
     "end_time": "2024-12-18T18:04:39.331714",
     "exception": false,
     "start_time": "2024-12-18T18:04:39.281602",
     "status": "completed"
    },
    "tags": []
   },
   "outputs": [
    {
     "data": {
      "text/plain": [
       "{'eval_accuracy': 0.9424664284834299,\n",
       " 'eval_loss': 0.14828680455684662,\n",
       " 'eval_runtime': 26.899,\n",
       " 'eval_samples_per_second': 301.759,\n",
       " 'eval_steps_per_second': 9.443,\n",
       " 'epoch': 3.0}"
      ]
     },
     "execution_count": 29,
     "metadata": {},
     "output_type": "execute_result"
    }
   ],
   "source": [
    "results"
   ]
  }
 ],
 "metadata": {
  "kaggle": {
   "accelerator": "none",
   "dataSources": [
    {
     "datasetId": 5926278,
     "sourceId": 9693156,
     "sourceType": "datasetVersion"
    }
   ],
   "dockerImageVersionId": 30804,
   "isGpuEnabled": false,
   "isInternetEnabled": true,
   "language": "python",
   "sourceType": "notebook"
  },
  "kernelspec": {
   "display_name": "Python 3",
   "language": "python",
   "name": "python3"
  },
  "language_info": {
   "codemirror_mode": {
    "name": "ipython",
    "version": 3
   },
   "file_extension": ".py",
   "mimetype": "text/x-python",
   "name": "python",
   "nbconvert_exporter": "python",
   "pygments_lexer": "ipython3",
   "version": "3.10.14"
  },
  "papermill": {
   "default_parameters": {},
   "duration": 802.906164,
   "end_time": "2024-12-18T18:04:42.770047",
   "environment_variables": {},
   "exception": null,
   "input_path": "__notebook__.ipynb",
   "output_path": "__notebook__.ipynb",
   "parameters": {},
   "start_time": "2024-12-18T17:51:19.863883",
   "version": "2.6.0"
  },
  "widgets": {
   "application/vnd.jupyter.widget-state+json": {
    "state": {
     "026178edb3b04bf7b537b82d9af4f22f": {
      "model_module": "@jupyter-widgets/base",
      "model_module_version": "2.0.0",
      "model_name": "LayoutModel",
      "state": {
       "_model_module": "@jupyter-widgets/base",
       "_model_module_version": "2.0.0",
       "_model_name": "LayoutModel",
       "_view_count": null,
       "_view_module": "@jupyter-widgets/base",
       "_view_module_version": "2.0.0",
       "_view_name": "LayoutView",
       "align_content": null,
       "align_items": null,
       "align_self": null,
       "border_bottom": null,
       "border_left": null,
       "border_right": null,
       "border_top": null,
       "bottom": null,
       "display": null,
       "flex": null,
       "flex_flow": null,
       "grid_area": null,
       "grid_auto_columns": null,
       "grid_auto_flow": null,
       "grid_auto_rows": null,
       "grid_column": null,
       "grid_gap": null,
       "grid_row": null,
       "grid_template_areas": null,
       "grid_template_columns": null,
       "grid_template_rows": null,
       "height": null,
       "justify_content": null,
       "justify_items": null,
       "left": null,
       "margin": null,
       "max_height": null,
       "max_width": null,
       "min_height": null,
       "min_width": null,
       "object_fit": null,
       "object_position": null,
       "order": null,
       "overflow": null,
       "padding": null,
       "right": null,
       "top": null,
       "visibility": null,
       "width": null
      }
     },
     "038f5d4310c0416e8fa3c7f56a95bca5": {
      "model_module": "@jupyter-widgets/controls",
      "model_module_version": "2.0.0",
      "model_name": "FloatProgressModel",
      "state": {
       "_dom_classes": [],
       "_model_module": "@jupyter-widgets/controls",
       "_model_module_version": "2.0.0",
       "_model_name": "FloatProgressModel",
       "_view_count": null,
       "_view_module": "@jupyter-widgets/controls",
       "_view_module_version": "2.0.0",
       "_view_name": "ProgressView",
       "bar_style": "success",
       "description": "",
       "description_allow_html": false,
       "layout": "IPY_MODEL_e9fa78fc8ffb46d8a088d16a49f6cfe2",
       "max": 267954768.0,
       "min": 0.0,
       "orientation": "horizontal",
       "style": "IPY_MODEL_7fa2aa94f4f846ee89016362e67d0341",
       "tabbable": null,
       "tooltip": null,
       "value": 267954768.0
      }
     },
     "0430043066c347d68e9e3b2c619b6777": {
      "model_module": "@jupyter-widgets/base",
      "model_module_version": "2.0.0",
      "model_name": "LayoutModel",
      "state": {
       "_model_module": "@jupyter-widgets/base",
       "_model_module_version": "2.0.0",
       "_model_name": "LayoutModel",
       "_view_count": null,
       "_view_module": "@jupyter-widgets/base",
       "_view_module_version": "2.0.0",
       "_view_name": "LayoutView",
       "align_content": null,
       "align_items": null,
       "align_self": null,
       "border_bottom": null,
       "border_left": null,
       "border_right": null,
       "border_top": null,
       "bottom": null,
       "display": null,
       "flex": null,
       "flex_flow": null,
       "grid_area": null,
       "grid_auto_columns": null,
       "grid_auto_flow": null,
       "grid_auto_rows": null,
       "grid_column": null,
       "grid_gap": null,
       "grid_row": null,
       "grid_template_areas": null,
       "grid_template_columns": null,
       "grid_template_rows": null,
       "height": null,
       "justify_content": null,
       "justify_items": null,
       "left": null,
       "margin": null,
       "max_height": null,
       "max_width": null,
       "min_height": null,
       "min_width": null,
       "object_fit": null,
       "object_position": null,
       "order": null,
       "overflow": null,
       "padding": null,
       "right": null,
       "top": null,
       "visibility": null,
       "width": null
      }
     },
     "0ee9ab7264494d6e9b4ed26455d0da6f": {
      "model_module": "@jupyter-widgets/base",
      "model_module_version": "2.0.0",
      "model_name": "LayoutModel",
      "state": {
       "_model_module": "@jupyter-widgets/base",
       "_model_module_version": "2.0.0",
       "_model_name": "LayoutModel",
       "_view_count": null,
       "_view_module": "@jupyter-widgets/base",
       "_view_module_version": "2.0.0",
       "_view_name": "LayoutView",
       "align_content": null,
       "align_items": null,
       "align_self": null,
       "border_bottom": null,
       "border_left": null,
       "border_right": null,
       "border_top": null,
       "bottom": null,
       "display": null,
       "flex": null,
       "flex_flow": null,
       "grid_area": null,
       "grid_auto_columns": null,
       "grid_auto_flow": null,
       "grid_auto_rows": null,
       "grid_column": null,
       "grid_gap": null,
       "grid_row": null,
       "grid_template_areas": null,
       "grid_template_columns": null,
       "grid_template_rows": null,
       "height": null,
       "justify_content": null,
       "justify_items": null,
       "left": null,
       "margin": null,
       "max_height": null,
       "max_width": null,
       "min_height": null,
       "min_width": null,
       "object_fit": null,
       "object_position": null,
       "order": null,
       "overflow": null,
       "padding": null,
       "right": null,
       "top": null,
       "visibility": null,
       "width": null
      }
     },
     "17f31381f5604573a21d3269f677d488": {
      "model_module": "@jupyter-widgets/base",
      "model_module_version": "2.0.0",
      "model_name": "LayoutModel",
      "state": {
       "_model_module": "@jupyter-widgets/base",
       "_model_module_version": "2.0.0",
       "_model_name": "LayoutModel",
       "_view_count": null,
       "_view_module": "@jupyter-widgets/base",
       "_view_module_version": "2.0.0",
       "_view_name": "LayoutView",
       "align_content": null,
       "align_items": null,
       "align_self": null,
       "border_bottom": null,
       "border_left": null,
       "border_right": null,
       "border_top": null,
       "bottom": null,
       "display": null,
       "flex": null,
       "flex_flow": null,
       "grid_area": null,
       "grid_auto_columns": null,
       "grid_auto_flow": null,
       "grid_auto_rows": null,
       "grid_column": null,
       "grid_gap": null,
       "grid_row": null,
       "grid_template_areas": null,
       "grid_template_columns": null,
       "grid_template_rows": null,
       "height": null,
       "justify_content": null,
       "justify_items": null,
       "left": null,
       "margin": null,
       "max_height": null,
       "max_width": null,
       "min_height": null,
       "min_width": null,
       "object_fit": null,
       "object_position": null,
       "order": null,
       "overflow": null,
       "padding": null,
       "right": null,
       "top": null,
       "visibility": null,
       "width": null
      }
     },
     "1e95007beedd4a53afaaebef605432d7": {
      "model_module": "@jupyter-widgets/controls",
      "model_module_version": "2.0.0",
      "model_name": "ProgressStyleModel",
      "state": {
       "_model_module": "@jupyter-widgets/controls",
       "_model_module_version": "2.0.0",
       "_model_name": "ProgressStyleModel",
       "_view_count": null,
       "_view_module": "@jupyter-widgets/base",
       "_view_module_version": "2.0.0",
       "_view_name": "StyleView",
       "bar_color": null,
       "description_width": ""
      }
     },
     "283392aad9864130aaa36231fbe7dbc8": {
      "model_module": "@jupyter-widgets/base",
      "model_module_version": "2.0.0",
      "model_name": "LayoutModel",
      "state": {
       "_model_module": "@jupyter-widgets/base",
       "_model_module_version": "2.0.0",
       "_model_name": "LayoutModel",
       "_view_count": null,
       "_view_module": "@jupyter-widgets/base",
       "_view_module_version": "2.0.0",
       "_view_name": "LayoutView",
       "align_content": null,
       "align_items": null,
       "align_self": null,
       "border_bottom": null,
       "border_left": null,
       "border_right": null,
       "border_top": null,
       "bottom": null,
       "display": null,
       "flex": null,
       "flex_flow": null,
       "grid_area": null,
       "grid_auto_columns": null,
       "grid_auto_flow": null,
       "grid_auto_rows": null,
       "grid_column": null,
       "grid_gap": null,
       "grid_row": null,
       "grid_template_areas": null,
       "grid_template_columns": null,
       "grid_template_rows": null,
       "height": null,
       "justify_content": null,
       "justify_items": null,
       "left": null,
       "margin": null,
       "max_height": null,
       "max_width": null,
       "min_height": null,
       "min_width": null,
       "object_fit": null,
       "object_position": null,
       "order": null,
       "overflow": null,
       "padding": null,
       "right": null,
       "top": null,
       "visibility": null,
       "width": null
      }
     },
     "2e1ce7c6f68f482187b0e78bcce3fe60": {
      "model_module": "@jupyter-widgets/controls",
      "model_module_version": "2.0.0",
      "model_name": "ProgressStyleModel",
      "state": {
       "_model_module": "@jupyter-widgets/controls",
       "_model_module_version": "2.0.0",
       "_model_name": "ProgressStyleModel",
       "_view_count": null,
       "_view_module": "@jupyter-widgets/base",
       "_view_module_version": "2.0.0",
       "_view_name": "StyleView",
       "bar_color": null,
       "description_width": ""
      }
     },
     "30133c95cdcb48b087a9ff53c3aa7314": {
      "model_module": "@jupyter-widgets/controls",
      "model_module_version": "2.0.0",
      "model_name": "HTMLModel",
      "state": {
       "_dom_classes": [],
       "_model_module": "@jupyter-widgets/controls",
       "_model_module_version": "2.0.0",
       "_model_name": "HTMLModel",
       "_view_count": null,
       "_view_module": "@jupyter-widgets/controls",
       "_view_module_version": "2.0.0",
       "_view_name": "HTMLView",
       "description": "",
       "description_allow_html": false,
       "layout": "IPY_MODEL_afa1f7fb72a04a15a31f5e5056f798b3",
       "placeholder": "​",
       "style": "IPY_MODEL_c4410880c1b8442689ad7b1e982689c2",
       "tabbable": null,
       "tooltip": null,
       "value": "tokenizer.json: 100%"
      }
     },
     "355a0bda880f404d939fdb3c46254f5a": {
      "model_module": "@jupyter-widgets/controls",
      "model_module_version": "2.0.0",
      "model_name": "HTMLStyleModel",
      "state": {
       "_model_module": "@jupyter-widgets/controls",
       "_model_module_version": "2.0.0",
       "_model_name": "HTMLStyleModel",
       "_view_count": null,
       "_view_module": "@jupyter-widgets/base",
       "_view_module_version": "2.0.0",
       "_view_name": "StyleView",
       "background": null,
       "description_width": "",
       "font_size": null,
       "text_color": null
      }
     },
     "37616b087ae44082a715464aaaf0bcb0": {
      "model_module": "@jupyter-widgets/controls",
      "model_module_version": "2.0.0",
      "model_name": "HTMLStyleModel",
      "state": {
       "_model_module": "@jupyter-widgets/controls",
       "_model_module_version": "2.0.0",
       "_model_name": "HTMLStyleModel",
       "_view_count": null,
       "_view_module": "@jupyter-widgets/base",
       "_view_module_version": "2.0.0",
       "_view_name": "StyleView",
       "background": null,
       "description_width": "",
       "font_size": null,
       "text_color": null
      }
     },
     "3ecff724f9e2409f8c62aff4d0baef18": {
      "model_module": "@jupyter-widgets/base",
      "model_module_version": "2.0.0",
      "model_name": "LayoutModel",
      "state": {
       "_model_module": "@jupyter-widgets/base",
       "_model_module_version": "2.0.0",
       "_model_name": "LayoutModel",
       "_view_count": null,
       "_view_module": "@jupyter-widgets/base",
       "_view_module_version": "2.0.0",
       "_view_name": "LayoutView",
       "align_content": null,
       "align_items": null,
       "align_self": null,
       "border_bottom": null,
       "border_left": null,
       "border_right": null,
       "border_top": null,
       "bottom": null,
       "display": null,
       "flex": null,
       "flex_flow": null,
       "grid_area": null,
       "grid_auto_columns": null,
       "grid_auto_flow": null,
       "grid_auto_rows": null,
       "grid_column": null,
       "grid_gap": null,
       "grid_row": null,
       "grid_template_areas": null,
       "grid_template_columns": null,
       "grid_template_rows": null,
       "height": null,
       "justify_content": null,
       "justify_items": null,
       "left": null,
       "margin": null,
       "max_height": null,
       "max_width": null,
       "min_height": null,
       "min_width": null,
       "object_fit": null,
       "object_position": null,
       "order": null,
       "overflow": null,
       "padding": null,
       "right": null,
       "top": null,
       "visibility": null,
       "width": null
      }
     },
     "3efad7d967eb4c8f825567310a7ec0bf": {
      "model_module": "@jupyter-widgets/controls",
      "model_module_version": "2.0.0",
      "model_name": "ProgressStyleModel",
      "state": {
       "_model_module": "@jupyter-widgets/controls",
       "_model_module_version": "2.0.0",
       "_model_name": "ProgressStyleModel",
       "_view_count": null,
       "_view_module": "@jupyter-widgets/base",
       "_view_module_version": "2.0.0",
       "_view_name": "StyleView",
       "bar_color": null,
       "description_width": ""
      }
     },
     "41c643ba0ec04ba888592dfb895e71ea": {
      "model_module": "@jupyter-widgets/base",
      "model_module_version": "2.0.0",
      "model_name": "LayoutModel",
      "state": {
       "_model_module": "@jupyter-widgets/base",
       "_model_module_version": "2.0.0",
       "_model_name": "LayoutModel",
       "_view_count": null,
       "_view_module": "@jupyter-widgets/base",
       "_view_module_version": "2.0.0",
       "_view_name": "LayoutView",
       "align_content": null,
       "align_items": null,
       "align_self": null,
       "border_bottom": null,
       "border_left": null,
       "border_right": null,
       "border_top": null,
       "bottom": null,
       "display": null,
       "flex": null,
       "flex_flow": null,
       "grid_area": null,
       "grid_auto_columns": null,
       "grid_auto_flow": null,
       "grid_auto_rows": null,
       "grid_column": null,
       "grid_gap": null,
       "grid_row": null,
       "grid_template_areas": null,
       "grid_template_columns": null,
       "grid_template_rows": null,
       "height": null,
       "justify_content": null,
       "justify_items": null,
       "left": null,
       "margin": null,
       "max_height": null,
       "max_width": null,
       "min_height": null,
       "min_width": null,
       "object_fit": null,
       "object_position": null,
       "order": null,
       "overflow": null,
       "padding": null,
       "right": null,
       "top": null,
       "visibility": null,
       "width": null
      }
     },
     "4b830b9aa75b4380877991936cda396e": {
      "model_module": "@jupyter-widgets/controls",
      "model_module_version": "2.0.0",
      "model_name": "HTMLStyleModel",
      "state": {
       "_model_module": "@jupyter-widgets/controls",
       "_model_module_version": "2.0.0",
       "_model_name": "HTMLStyleModel",
       "_view_count": null,
       "_view_module": "@jupyter-widgets/base",
       "_view_module_version": "2.0.0",
       "_view_name": "StyleView",
       "background": null,
       "description_width": "",
       "font_size": null,
       "text_color": null
      }
     },
     "4c43c9d9331f4623b085079299cf8e24": {
      "model_module": "@jupyter-widgets/base",
      "model_module_version": "2.0.0",
      "model_name": "LayoutModel",
      "state": {
       "_model_module": "@jupyter-widgets/base",
       "_model_module_version": "2.0.0",
       "_model_name": "LayoutModel",
       "_view_count": null,
       "_view_module": "@jupyter-widgets/base",
       "_view_module_version": "2.0.0",
       "_view_name": "LayoutView",
       "align_content": null,
       "align_items": null,
       "align_self": null,
       "border_bottom": null,
       "border_left": null,
       "border_right": null,
       "border_top": null,
       "bottom": null,
       "display": null,
       "flex": null,
       "flex_flow": null,
       "grid_area": null,
       "grid_auto_columns": null,
       "grid_auto_flow": null,
       "grid_auto_rows": null,
       "grid_column": null,
       "grid_gap": null,
       "grid_row": null,
       "grid_template_areas": null,
       "grid_template_columns": null,
       "grid_template_rows": null,
       "height": null,
       "justify_content": null,
       "justify_items": null,
       "left": null,
       "margin": null,
       "max_height": null,
       "max_width": null,
       "min_height": null,
       "min_width": null,
       "object_fit": null,
       "object_position": null,
       "order": null,
       "overflow": null,
       "padding": null,
       "right": null,
       "top": null,
       "visibility": null,
       "width": null
      }
     },
     "4d6bf852981d4f43a81f8733767d5da0": {
      "model_module": "@jupyter-widgets/base",
      "model_module_version": "2.0.0",
      "model_name": "LayoutModel",
      "state": {
       "_model_module": "@jupyter-widgets/base",
       "_model_module_version": "2.0.0",
       "_model_name": "LayoutModel",
       "_view_count": null,
       "_view_module": "@jupyter-widgets/base",
       "_view_module_version": "2.0.0",
       "_view_name": "LayoutView",
       "align_content": null,
       "align_items": null,
       "align_self": null,
       "border_bottom": null,
       "border_left": null,
       "border_right": null,
       "border_top": null,
       "bottom": null,
       "display": null,
       "flex": null,
       "flex_flow": null,
       "grid_area": null,
       "grid_auto_columns": null,
       "grid_auto_flow": null,
       "grid_auto_rows": null,
       "grid_column": null,
       "grid_gap": null,
       "grid_row": null,
       "grid_template_areas": null,
       "grid_template_columns": null,
       "grid_template_rows": null,
       "height": null,
       "justify_content": null,
       "justify_items": null,
       "left": null,
       "margin": null,
       "max_height": null,
       "max_width": null,
       "min_height": null,
       "min_width": null,
       "object_fit": null,
       "object_position": null,
       "order": null,
       "overflow": null,
       "padding": null,
       "right": null,
       "top": null,
       "visibility": null,
       "width": null
      }
     },
     "53a0a4f08f0f453c9e1605e18a167684": {
      "model_module": "@jupyter-widgets/base",
      "model_module_version": "2.0.0",
      "model_name": "LayoutModel",
      "state": {
       "_model_module": "@jupyter-widgets/base",
       "_model_module_version": "2.0.0",
       "_model_name": "LayoutModel",
       "_view_count": null,
       "_view_module": "@jupyter-widgets/base",
       "_view_module_version": "2.0.0",
       "_view_name": "LayoutView",
       "align_content": null,
       "align_items": null,
       "align_self": null,
       "border_bottom": null,
       "border_left": null,
       "border_right": null,
       "border_top": null,
       "bottom": null,
       "display": null,
       "flex": null,
       "flex_flow": null,
       "grid_area": null,
       "grid_auto_columns": null,
       "grid_auto_flow": null,
       "grid_auto_rows": null,
       "grid_column": null,
       "grid_gap": null,
       "grid_row": null,
       "grid_template_areas": null,
       "grid_template_columns": null,
       "grid_template_rows": null,
       "height": null,
       "justify_content": null,
       "justify_items": null,
       "left": null,
       "margin": null,
       "max_height": null,
       "max_width": null,
       "min_height": null,
       "min_width": null,
       "object_fit": null,
       "object_position": null,
       "order": null,
       "overflow": null,
       "padding": null,
       "right": null,
       "top": null,
       "visibility": null,
       "width": null
      }
     },
     "546e4708a1fc4bdf80cb1ddd3fb68954": {
      "model_module": "@jupyter-widgets/controls",
      "model_module_version": "2.0.0",
      "model_name": "HTMLModel",
      "state": {
       "_dom_classes": [],
       "_model_module": "@jupyter-widgets/controls",
       "_model_module_version": "2.0.0",
       "_model_name": "HTMLModel",
       "_view_count": null,
       "_view_module": "@jupyter-widgets/controls",
       "_view_module_version": "2.0.0",
       "_view_name": "HTMLView",
       "description": "",
       "description_allow_html": false,
       "layout": "IPY_MODEL_d77768d061ff4768a92c7294f93a9961",
       "placeholder": "​",
       "style": "IPY_MODEL_4b830b9aa75b4380877991936cda396e",
       "tabbable": null,
       "tooltip": null,
       "value": "model.safetensors: 100%"
      }
     },
     "55e0ac2ed8ea4c18adc5d708787af5b7": {
      "model_module": "@jupyter-widgets/base",
      "model_module_version": "2.0.0",
      "model_name": "LayoutModel",
      "state": {
       "_model_module": "@jupyter-widgets/base",
       "_model_module_version": "2.0.0",
       "_model_name": "LayoutModel",
       "_view_count": null,
       "_view_module": "@jupyter-widgets/base",
       "_view_module_version": "2.0.0",
       "_view_name": "LayoutView",
       "align_content": null,
       "align_items": null,
       "align_self": null,
       "border_bottom": null,
       "border_left": null,
       "border_right": null,
       "border_top": null,
       "bottom": null,
       "display": null,
       "flex": null,
       "flex_flow": null,
       "grid_area": null,
       "grid_auto_columns": null,
       "grid_auto_flow": null,
       "grid_auto_rows": null,
       "grid_column": null,
       "grid_gap": null,
       "grid_row": null,
       "grid_template_areas": null,
       "grid_template_columns": null,
       "grid_template_rows": null,
       "height": null,
       "justify_content": null,
       "justify_items": null,
       "left": null,
       "margin": null,
       "max_height": null,
       "max_width": null,
       "min_height": null,
       "min_width": null,
       "object_fit": null,
       "object_position": null,
       "order": null,
       "overflow": null,
       "padding": null,
       "right": null,
       "top": null,
       "visibility": null,
       "width": null
      }
     },
     "5ff8396d923b437a808f43836802bc50": {
      "model_module": "@jupyter-widgets/controls",
      "model_module_version": "2.0.0",
      "model_name": "HTMLStyleModel",
      "state": {
       "_model_module": "@jupyter-widgets/controls",
       "_model_module_version": "2.0.0",
       "_model_name": "HTMLStyleModel",
       "_view_count": null,
       "_view_module": "@jupyter-widgets/base",
       "_view_module_version": "2.0.0",
       "_view_name": "StyleView",
       "background": null,
       "description_width": "",
       "font_size": null,
       "text_color": null
      }
     },
     "61fad3188d214589bca9c8684717098f": {
      "model_module": "@jupyter-widgets/base",
      "model_module_version": "2.0.0",
      "model_name": "LayoutModel",
      "state": {
       "_model_module": "@jupyter-widgets/base",
       "_model_module_version": "2.0.0",
       "_model_name": "LayoutModel",
       "_view_count": null,
       "_view_module": "@jupyter-widgets/base",
       "_view_module_version": "2.0.0",
       "_view_name": "LayoutView",
       "align_content": null,
       "align_items": null,
       "align_self": null,
       "border_bottom": null,
       "border_left": null,
       "border_right": null,
       "border_top": null,
       "bottom": null,
       "display": null,
       "flex": null,
       "flex_flow": null,
       "grid_area": null,
       "grid_auto_columns": null,
       "grid_auto_flow": null,
       "grid_auto_rows": null,
       "grid_column": null,
       "grid_gap": null,
       "grid_row": null,
       "grid_template_areas": null,
       "grid_template_columns": null,
       "grid_template_rows": null,
       "height": null,
       "justify_content": null,
       "justify_items": null,
       "left": null,
       "margin": null,
       "max_height": null,
       "max_width": null,
       "min_height": null,
       "min_width": null,
       "object_fit": null,
       "object_position": null,
       "order": null,
       "overflow": null,
       "padding": null,
       "right": null,
       "top": null,
       "visibility": null,
       "width": null
      }
     },
     "63b0690a2e1948c687f35be1f262b8eb": {
      "model_module": "@jupyter-widgets/controls",
      "model_module_version": "2.0.0",
      "model_name": "HBoxModel",
      "state": {
       "_dom_classes": [],
       "_model_module": "@jupyter-widgets/controls",
       "_model_module_version": "2.0.0",
       "_model_name": "HBoxModel",
       "_view_count": null,
       "_view_module": "@jupyter-widgets/controls",
       "_view_module_version": "2.0.0",
       "_view_name": "HBoxView",
       "box_style": "",
       "children": [
        "IPY_MODEL_e622c5d173584d3c9fd2d506bf6bcbb0",
        "IPY_MODEL_db257d8c731748abbb03db17ac90dcf5",
        "IPY_MODEL_bfe41d73f2b34b4e843b04d9e1aff5e5"
       ],
       "layout": "IPY_MODEL_026178edb3b04bf7b537b82d9af4f22f",
       "tabbable": null,
       "tooltip": null
      }
     },
     "66b8de4f8e7e46e88a6a314d7fd96137": {
      "model_module": "@jupyter-widgets/base",
      "model_module_version": "2.0.0",
      "model_name": "LayoutModel",
      "state": {
       "_model_module": "@jupyter-widgets/base",
       "_model_module_version": "2.0.0",
       "_model_name": "LayoutModel",
       "_view_count": null,
       "_view_module": "@jupyter-widgets/base",
       "_view_module_version": "2.0.0",
       "_view_name": "LayoutView",
       "align_content": null,
       "align_items": null,
       "align_self": null,
       "border_bottom": null,
       "border_left": null,
       "border_right": null,
       "border_top": null,
       "bottom": null,
       "display": null,
       "flex": null,
       "flex_flow": null,
       "grid_area": null,
       "grid_auto_columns": null,
       "grid_auto_flow": null,
       "grid_auto_rows": null,
       "grid_column": null,
       "grid_gap": null,
       "grid_row": null,
       "grid_template_areas": null,
       "grid_template_columns": null,
       "grid_template_rows": null,
       "height": null,
       "justify_content": null,
       "justify_items": null,
       "left": null,
       "margin": null,
       "max_height": null,
       "max_width": null,
       "min_height": null,
       "min_width": null,
       "object_fit": null,
       "object_position": null,
       "order": null,
       "overflow": null,
       "padding": null,
       "right": null,
       "top": null,
       "visibility": null,
       "width": null
      }
     },
     "670f1df81ad943a2b17d534163d08ab5": {
      "model_module": "@jupyter-widgets/base",
      "model_module_version": "2.0.0",
      "model_name": "LayoutModel",
      "state": {
       "_model_module": "@jupyter-widgets/base",
       "_model_module_version": "2.0.0",
       "_model_name": "LayoutModel",
       "_view_count": null,
       "_view_module": "@jupyter-widgets/base",
       "_view_module_version": "2.0.0",
       "_view_name": "LayoutView",
       "align_content": null,
       "align_items": null,
       "align_self": null,
       "border_bottom": null,
       "border_left": null,
       "border_right": null,
       "border_top": null,
       "bottom": null,
       "display": null,
       "flex": null,
       "flex_flow": null,
       "grid_area": null,
       "grid_auto_columns": null,
       "grid_auto_flow": null,
       "grid_auto_rows": null,
       "grid_column": null,
       "grid_gap": null,
       "grid_row": null,
       "grid_template_areas": null,
       "grid_template_columns": null,
       "grid_template_rows": null,
       "height": null,
       "justify_content": null,
       "justify_items": null,
       "left": null,
       "margin": null,
       "max_height": null,
       "max_width": null,
       "min_height": null,
       "min_width": null,
       "object_fit": null,
       "object_position": null,
       "order": null,
       "overflow": null,
       "padding": null,
       "right": null,
       "top": null,
       "visibility": null,
       "width": null
      }
     },
     "7d5a1ff071614d01a181bbe53eee4c4f": {
      "model_module": "@jupyter-widgets/controls",
      "model_module_version": "2.0.0",
      "model_name": "FloatProgressModel",
      "state": {
       "_dom_classes": [],
       "_model_module": "@jupyter-widgets/controls",
       "_model_module_version": "2.0.0",
       "_model_name": "FloatProgressModel",
       "_view_count": null,
       "_view_module": "@jupyter-widgets/controls",
       "_view_module_version": "2.0.0",
       "_view_name": "ProgressView",
       "bar_style": "success",
       "description": "",
       "description_allow_html": false,
       "layout": "IPY_MODEL_0ee9ab7264494d6e9b4ed26455d0da6f",
       "max": 483.0,
       "min": 0.0,
       "orientation": "horizontal",
       "style": "IPY_MODEL_3efad7d967eb4c8f825567310a7ec0bf",
       "tabbable": null,
       "tooltip": null,
       "value": 483.0
      }
     },
     "7fa2aa94f4f846ee89016362e67d0341": {
      "model_module": "@jupyter-widgets/controls",
      "model_module_version": "2.0.0",
      "model_name": "ProgressStyleModel",
      "state": {
       "_model_module": "@jupyter-widgets/controls",
       "_model_module_version": "2.0.0",
       "_model_name": "ProgressStyleModel",
       "_view_count": null,
       "_view_module": "@jupyter-widgets/base",
       "_view_module_version": "2.0.0",
       "_view_name": "StyleView",
       "bar_color": null,
       "description_width": ""
      }
     },
     "8c049840560245aeb6e0fb26e1ab6e7a": {
      "model_module": "@jupyter-widgets/controls",
      "model_module_version": "2.0.0",
      "model_name": "HTMLStyleModel",
      "state": {
       "_model_module": "@jupyter-widgets/controls",
       "_model_module_version": "2.0.0",
       "_model_name": "HTMLStyleModel",
       "_view_count": null,
       "_view_module": "@jupyter-widgets/base",
       "_view_module_version": "2.0.0",
       "_view_name": "StyleView",
       "background": null,
       "description_width": "",
       "font_size": null,
       "text_color": null
      }
     },
     "98717d1104544804a9ff70055c3b19cb": {
      "model_module": "@jupyter-widgets/base",
      "model_module_version": "2.0.0",
      "model_name": "LayoutModel",
      "state": {
       "_model_module": "@jupyter-widgets/base",
       "_model_module_version": "2.0.0",
       "_model_name": "LayoutModel",
       "_view_count": null,
       "_view_module": "@jupyter-widgets/base",
       "_view_module_version": "2.0.0",
       "_view_name": "LayoutView",
       "align_content": null,
       "align_items": null,
       "align_self": null,
       "border_bottom": null,
       "border_left": null,
       "border_right": null,
       "border_top": null,
       "bottom": null,
       "display": null,
       "flex": null,
       "flex_flow": null,
       "grid_area": null,
       "grid_auto_columns": null,
       "grid_auto_flow": null,
       "grid_auto_rows": null,
       "grid_column": null,
       "grid_gap": null,
       "grid_row": null,
       "grid_template_areas": null,
       "grid_template_columns": null,
       "grid_template_rows": null,
       "height": null,
       "justify_content": null,
       "justify_items": null,
       "left": null,
       "margin": null,
       "max_height": null,
       "max_width": null,
       "min_height": null,
       "min_width": null,
       "object_fit": null,
       "object_position": null,
       "order": null,
       "overflow": null,
       "padding": null,
       "right": null,
       "top": null,
       "visibility": null,
       "width": null
      }
     },
     "9a65ac4613ba46619699dc3eabdf1032": {
      "model_module": "@jupyter-widgets/controls",
      "model_module_version": "2.0.0",
      "model_name": "HTMLStyleModel",
      "state": {
       "_model_module": "@jupyter-widgets/controls",
       "_model_module_version": "2.0.0",
       "_model_name": "HTMLStyleModel",
       "_view_count": null,
       "_view_module": "@jupyter-widgets/base",
       "_view_module_version": "2.0.0",
       "_view_name": "StyleView",
       "background": null,
       "description_width": "",
       "font_size": null,
       "text_color": null
      }
     },
     "9db40d30513f4eec9bffbbe527615097": {
      "model_module": "@jupyter-widgets/controls",
      "model_module_version": "2.0.0",
      "model_name": "HTMLModel",
      "state": {
       "_dom_classes": [],
       "_model_module": "@jupyter-widgets/controls",
       "_model_module_version": "2.0.0",
       "_model_name": "HTMLModel",
       "_view_count": null,
       "_view_module": "@jupyter-widgets/controls",
       "_view_module_version": "2.0.0",
       "_view_name": "HTMLView",
       "description": "",
       "description_allow_html": false,
       "layout": "IPY_MODEL_61fad3188d214589bca9c8684717098f",
       "placeholder": "​",
       "style": "IPY_MODEL_5ff8396d923b437a808f43836802bc50",
       "tabbable": null,
       "tooltip": null,
       "value": "tokenizer_config.json: 100%"
      }
     },
     "a11950edad114605bf67c4dd83d572d0": {
      "model_module": "@jupyter-widgets/controls",
      "model_module_version": "2.0.0",
      "model_name": "HBoxModel",
      "state": {
       "_dom_classes": [],
       "_model_module": "@jupyter-widgets/controls",
       "_model_module_version": "2.0.0",
       "_model_name": "HBoxModel",
       "_view_count": null,
       "_view_module": "@jupyter-widgets/controls",
       "_view_module_version": "2.0.0",
       "_view_name": "HBoxView",
       "box_style": "",
       "children": [
        "IPY_MODEL_546e4708a1fc4bdf80cb1ddd3fb68954",
        "IPY_MODEL_038f5d4310c0416e8fa3c7f56a95bca5",
        "IPY_MODEL_c31a48bbe8964dcca27c425db5692624"
       ],
       "layout": "IPY_MODEL_55e0ac2ed8ea4c18adc5d708787af5b7",
       "tabbable": null,
       "tooltip": null
      }
     },
     "a2fee97a55cd46bd91bd6c6265fa86c6": {
      "model_module": "@jupyter-widgets/controls",
      "model_module_version": "2.0.0",
      "model_name": "HTMLModel",
      "state": {
       "_dom_classes": [],
       "_model_module": "@jupyter-widgets/controls",
       "_model_module_version": "2.0.0",
       "_model_name": "HTMLModel",
       "_view_count": null,
       "_view_module": "@jupyter-widgets/controls",
       "_view_module_version": "2.0.0",
       "_view_name": "HTMLView",
       "description": "",
       "description_allow_html": false,
       "layout": "IPY_MODEL_3ecff724f9e2409f8c62aff4d0baef18",
       "placeholder": "​",
       "style": "IPY_MODEL_9a65ac4613ba46619699dc3eabdf1032",
       "tabbable": null,
       "tooltip": null,
       "value": "config.json: 100%"
      }
     },
     "a9736d9edcc845f99419b4f3188d34e5": {
      "model_module": "@jupyter-widgets/controls",
      "model_module_version": "2.0.0",
      "model_name": "HBoxModel",
      "state": {
       "_dom_classes": [],
       "_model_module": "@jupyter-widgets/controls",
       "_model_module_version": "2.0.0",
       "_model_name": "HBoxModel",
       "_view_count": null,
       "_view_module": "@jupyter-widgets/controls",
       "_view_module_version": "2.0.0",
       "_view_name": "HBoxView",
       "box_style": "",
       "children": [
        "IPY_MODEL_a2fee97a55cd46bd91bd6c6265fa86c6",
        "IPY_MODEL_7d5a1ff071614d01a181bbe53eee4c4f",
        "IPY_MODEL_cfd8a90e4c584fe997a10232a05fd270"
       ],
       "layout": "IPY_MODEL_66b8de4f8e7e46e88a6a314d7fd96137",
       "tabbable": null,
       "tooltip": null
      }
     },
     "afa1f7fb72a04a15a31f5e5056f798b3": {
      "model_module": "@jupyter-widgets/base",
      "model_module_version": "2.0.0",
      "model_name": "LayoutModel",
      "state": {
       "_model_module": "@jupyter-widgets/base",
       "_model_module_version": "2.0.0",
       "_model_name": "LayoutModel",
       "_view_count": null,
       "_view_module": "@jupyter-widgets/base",
       "_view_module_version": "2.0.0",
       "_view_name": "LayoutView",
       "align_content": null,
       "align_items": null,
       "align_self": null,
       "border_bottom": null,
       "border_left": null,
       "border_right": null,
       "border_top": null,
       "bottom": null,
       "display": null,
       "flex": null,
       "flex_flow": null,
       "grid_area": null,
       "grid_auto_columns": null,
       "grid_auto_flow": null,
       "grid_auto_rows": null,
       "grid_column": null,
       "grid_gap": null,
       "grid_row": null,
       "grid_template_areas": null,
       "grid_template_columns": null,
       "grid_template_rows": null,
       "height": null,
       "justify_content": null,
       "justify_items": null,
       "left": null,
       "margin": null,
       "max_height": null,
       "max_width": null,
       "min_height": null,
       "min_width": null,
       "object_fit": null,
       "object_position": null,
       "order": null,
       "overflow": null,
       "padding": null,
       "right": null,
       "top": null,
       "visibility": null,
       "width": null
      }
     },
     "bfe41d73f2b34b4e843b04d9e1aff5e5": {
      "model_module": "@jupyter-widgets/controls",
      "model_module_version": "2.0.0",
      "model_name": "HTMLModel",
      "state": {
       "_dom_classes": [],
       "_model_module": "@jupyter-widgets/controls",
       "_model_module_version": "2.0.0",
       "_model_name": "HTMLModel",
       "_view_count": null,
       "_view_module": "@jupyter-widgets/controls",
       "_view_module_version": "2.0.0",
       "_view_name": "HTMLView",
       "description": "",
       "description_allow_html": false,
       "layout": "IPY_MODEL_d2cc48d333e345998d9c891891d42942",
       "placeholder": "​",
       "style": "IPY_MODEL_fd29528fe7ec4c71921c52070da74442",
       "tabbable": null,
       "tooltip": null,
       "value": " 232k/232k [00:00&lt;00:00, 7.65MB/s]"
      }
     },
     "c01c736fdc804bf6880b8d5bcba21eb2": {
      "model_module": "@jupyter-widgets/base",
      "model_module_version": "2.0.0",
      "model_name": "LayoutModel",
      "state": {
       "_model_module": "@jupyter-widgets/base",
       "_model_module_version": "2.0.0",
       "_model_name": "LayoutModel",
       "_view_count": null,
       "_view_module": "@jupyter-widgets/base",
       "_view_module_version": "2.0.0",
       "_view_name": "LayoutView",
       "align_content": null,
       "align_items": null,
       "align_self": null,
       "border_bottom": null,
       "border_left": null,
       "border_right": null,
       "border_top": null,
       "bottom": null,
       "display": null,
       "flex": null,
       "flex_flow": null,
       "grid_area": null,
       "grid_auto_columns": null,
       "grid_auto_flow": null,
       "grid_auto_rows": null,
       "grid_column": null,
       "grid_gap": null,
       "grid_row": null,
       "grid_template_areas": null,
       "grid_template_columns": null,
       "grid_template_rows": null,
       "height": null,
       "justify_content": null,
       "justify_items": null,
       "left": null,
       "margin": null,
       "max_height": null,
       "max_width": null,
       "min_height": null,
       "min_width": null,
       "object_fit": null,
       "object_position": null,
       "order": null,
       "overflow": null,
       "padding": null,
       "right": null,
       "top": null,
       "visibility": null,
       "width": null
      }
     },
     "c23e0fda25f247edbf567086d7100a5e": {
      "model_module": "@jupyter-widgets/controls",
      "model_module_version": "2.0.0",
      "model_name": "HTMLStyleModel",
      "state": {
       "_model_module": "@jupyter-widgets/controls",
       "_model_module_version": "2.0.0",
       "_model_name": "HTMLStyleModel",
       "_view_count": null,
       "_view_module": "@jupyter-widgets/base",
       "_view_module_version": "2.0.0",
       "_view_name": "StyleView",
       "background": null,
       "description_width": "",
       "font_size": null,
       "text_color": null
      }
     },
     "c31a48bbe8964dcca27c425db5692624": {
      "model_module": "@jupyter-widgets/controls",
      "model_module_version": "2.0.0",
      "model_name": "HTMLModel",
      "state": {
       "_dom_classes": [],
       "_model_module": "@jupyter-widgets/controls",
       "_model_module_version": "2.0.0",
       "_model_name": "HTMLModel",
       "_view_count": null,
       "_view_module": "@jupyter-widgets/controls",
       "_view_module_version": "2.0.0",
       "_view_name": "HTMLView",
       "description": "",
       "description_allow_html": false,
       "layout": "IPY_MODEL_98717d1104544804a9ff70055c3b19cb",
       "placeholder": "​",
       "style": "IPY_MODEL_8c049840560245aeb6e0fb26e1ab6e7a",
       "tabbable": null,
       "tooltip": null,
       "value": " 268M/268M [00:01&lt;00:00, 225MB/s]"
      }
     },
     "c3ac275095b64988937f2027a0744844": {
      "model_module": "@jupyter-widgets/controls",
      "model_module_version": "2.0.0",
      "model_name": "FloatProgressModel",
      "state": {
       "_dom_classes": [],
       "_model_module": "@jupyter-widgets/controls",
       "_model_module_version": "2.0.0",
       "_model_name": "FloatProgressModel",
       "_view_count": null,
       "_view_module": "@jupyter-widgets/controls",
       "_view_module_version": "2.0.0",
       "_view_name": "ProgressView",
       "bar_style": "success",
       "description": "",
       "description_allow_html": false,
       "layout": "IPY_MODEL_41c643ba0ec04ba888592dfb895e71ea",
       "max": 48.0,
       "min": 0.0,
       "orientation": "horizontal",
       "style": "IPY_MODEL_1e95007beedd4a53afaaebef605432d7",
       "tabbable": null,
       "tooltip": null,
       "value": 48.0
      }
     },
     "c4410880c1b8442689ad7b1e982689c2": {
      "model_module": "@jupyter-widgets/controls",
      "model_module_version": "2.0.0",
      "model_name": "HTMLStyleModel",
      "state": {
       "_model_module": "@jupyter-widgets/controls",
       "_model_module_version": "2.0.0",
       "_model_name": "HTMLStyleModel",
       "_view_count": null,
       "_view_module": "@jupyter-widgets/base",
       "_view_module_version": "2.0.0",
       "_view_name": "StyleView",
       "background": null,
       "description_width": "",
       "font_size": null,
       "text_color": null
      }
     },
     "c45bf2ac57e54d5b9b25470e10eccef0": {
      "model_module": "@jupyter-widgets/controls",
      "model_module_version": "2.0.0",
      "model_name": "HTMLModel",
      "state": {
       "_dom_classes": [],
       "_model_module": "@jupyter-widgets/controls",
       "_model_module_version": "2.0.0",
       "_model_name": "HTMLModel",
       "_view_count": null,
       "_view_module": "@jupyter-widgets/controls",
       "_view_module_version": "2.0.0",
       "_view_name": "HTMLView",
       "description": "",
       "description_allow_html": false,
       "layout": "IPY_MODEL_c01c736fdc804bf6880b8d5bcba21eb2",
       "placeholder": "​",
       "style": "IPY_MODEL_37616b087ae44082a715464aaaf0bcb0",
       "tabbable": null,
       "tooltip": null,
       "value": " 466k/466k [00:00&lt;00:00, 35.5MB/s]"
      }
     },
     "cdc09d7402f3497b8faf94498a28b8c1": {
      "model_module": "@jupyter-widgets/controls",
      "model_module_version": "2.0.0",
      "model_name": "HTMLStyleModel",
      "state": {
       "_model_module": "@jupyter-widgets/controls",
       "_model_module_version": "2.0.0",
       "_model_name": "HTMLStyleModel",
       "_view_count": null,
       "_view_module": "@jupyter-widgets/base",
       "_view_module_version": "2.0.0",
       "_view_name": "StyleView",
       "background": null,
       "description_width": "",
       "font_size": null,
       "text_color": null
      }
     },
     "ce611e99a8084673b899d5bc16511831": {
      "model_module": "@jupyter-widgets/controls",
      "model_module_version": "2.0.0",
      "model_name": "HBoxModel",
      "state": {
       "_dom_classes": [],
       "_model_module": "@jupyter-widgets/controls",
       "_model_module_version": "2.0.0",
       "_model_name": "HBoxModel",
       "_view_count": null,
       "_view_module": "@jupyter-widgets/controls",
       "_view_module_version": "2.0.0",
       "_view_name": "HBoxView",
       "box_style": "",
       "children": [
        "IPY_MODEL_30133c95cdcb48b087a9ff53c3aa7314",
        "IPY_MODEL_f1f40fd83a584f1aa19d2d69da5b1741",
        "IPY_MODEL_c45bf2ac57e54d5b9b25470e10eccef0"
       ],
       "layout": "IPY_MODEL_4d6bf852981d4f43a81f8733767d5da0",
       "tabbable": null,
       "tooltip": null
      }
     },
     "cfd8a90e4c584fe997a10232a05fd270": {
      "model_module": "@jupyter-widgets/controls",
      "model_module_version": "2.0.0",
      "model_name": "HTMLModel",
      "state": {
       "_dom_classes": [],
       "_model_module": "@jupyter-widgets/controls",
       "_model_module_version": "2.0.0",
       "_model_name": "HTMLModel",
       "_view_count": null,
       "_view_module": "@jupyter-widgets/controls",
       "_view_module_version": "2.0.0",
       "_view_name": "HTMLView",
       "description": "",
       "description_allow_html": false,
       "layout": "IPY_MODEL_53a0a4f08f0f453c9e1605e18a167684",
       "placeholder": "​",
       "style": "IPY_MODEL_cdc09d7402f3497b8faf94498a28b8c1",
       "tabbable": null,
       "tooltip": null,
       "value": " 483/483 [00:00&lt;00:00, 56.0kB/s]"
      }
     },
     "d2cc48d333e345998d9c891891d42942": {
      "model_module": "@jupyter-widgets/base",
      "model_module_version": "2.0.0",
      "model_name": "LayoutModel",
      "state": {
       "_model_module": "@jupyter-widgets/base",
       "_model_module_version": "2.0.0",
       "_model_name": "LayoutModel",
       "_view_count": null,
       "_view_module": "@jupyter-widgets/base",
       "_view_module_version": "2.0.0",
       "_view_name": "LayoutView",
       "align_content": null,
       "align_items": null,
       "align_self": null,
       "border_bottom": null,
       "border_left": null,
       "border_right": null,
       "border_top": null,
       "bottom": null,
       "display": null,
       "flex": null,
       "flex_flow": null,
       "grid_area": null,
       "grid_auto_columns": null,
       "grid_auto_flow": null,
       "grid_auto_rows": null,
       "grid_column": null,
       "grid_gap": null,
       "grid_row": null,
       "grid_template_areas": null,
       "grid_template_columns": null,
       "grid_template_rows": null,
       "height": null,
       "justify_content": null,
       "justify_items": null,
       "left": null,
       "margin": null,
       "max_height": null,
       "max_width": null,
       "min_height": null,
       "min_width": null,
       "object_fit": null,
       "object_position": null,
       "order": null,
       "overflow": null,
       "padding": null,
       "right": null,
       "top": null,
       "visibility": null,
       "width": null
      }
     },
     "d77768d061ff4768a92c7294f93a9961": {
      "model_module": "@jupyter-widgets/base",
      "model_module_version": "2.0.0",
      "model_name": "LayoutModel",
      "state": {
       "_model_module": "@jupyter-widgets/base",
       "_model_module_version": "2.0.0",
       "_model_name": "LayoutModel",
       "_view_count": null,
       "_view_module": "@jupyter-widgets/base",
       "_view_module_version": "2.0.0",
       "_view_name": "LayoutView",
       "align_content": null,
       "align_items": null,
       "align_self": null,
       "border_bottom": null,
       "border_left": null,
       "border_right": null,
       "border_top": null,
       "bottom": null,
       "display": null,
       "flex": null,
       "flex_flow": null,
       "grid_area": null,
       "grid_auto_columns": null,
       "grid_auto_flow": null,
       "grid_auto_rows": null,
       "grid_column": null,
       "grid_gap": null,
       "grid_row": null,
       "grid_template_areas": null,
       "grid_template_columns": null,
       "grid_template_rows": null,
       "height": null,
       "justify_content": null,
       "justify_items": null,
       "left": null,
       "margin": null,
       "max_height": null,
       "max_width": null,
       "min_height": null,
       "min_width": null,
       "object_fit": null,
       "object_position": null,
       "order": null,
       "overflow": null,
       "padding": null,
       "right": null,
       "top": null,
       "visibility": null,
       "width": null
      }
     },
     "db257d8c731748abbb03db17ac90dcf5": {
      "model_module": "@jupyter-widgets/controls",
      "model_module_version": "2.0.0",
      "model_name": "FloatProgressModel",
      "state": {
       "_dom_classes": [],
       "_model_module": "@jupyter-widgets/controls",
       "_model_module_version": "2.0.0",
       "_model_name": "FloatProgressModel",
       "_view_count": null,
       "_view_module": "@jupyter-widgets/controls",
       "_view_module_version": "2.0.0",
       "_view_name": "ProgressView",
       "bar_style": "success",
       "description": "",
       "description_allow_html": false,
       "layout": "IPY_MODEL_0430043066c347d68e9e3b2c619b6777",
       "max": 231508.0,
       "min": 0.0,
       "orientation": "horizontal",
       "style": "IPY_MODEL_eae96a1f190047ea87d87ac7a2896b00",
       "tabbable": null,
       "tooltip": null,
       "value": 231508.0
      }
     },
     "dfe2db51947b4fe195a649432ff70463": {
      "model_module": "@jupyter-widgets/controls",
      "model_module_version": "2.0.0",
      "model_name": "HTMLModel",
      "state": {
       "_dom_classes": [],
       "_model_module": "@jupyter-widgets/controls",
       "_model_module_version": "2.0.0",
       "_model_name": "HTMLModel",
       "_view_count": null,
       "_view_module": "@jupyter-widgets/controls",
       "_view_module_version": "2.0.0",
       "_view_name": "HTMLView",
       "description": "",
       "description_allow_html": false,
       "layout": "IPY_MODEL_283392aad9864130aaa36231fbe7dbc8",
       "placeholder": "​",
       "style": "IPY_MODEL_355a0bda880f404d939fdb3c46254f5a",
       "tabbable": null,
       "tooltip": null,
       "value": " 48.0/48.0 [00:00&lt;00:00, 5.34kB/s]"
      }
     },
     "e622c5d173584d3c9fd2d506bf6bcbb0": {
      "model_module": "@jupyter-widgets/controls",
      "model_module_version": "2.0.0",
      "model_name": "HTMLModel",
      "state": {
       "_dom_classes": [],
       "_model_module": "@jupyter-widgets/controls",
       "_model_module_version": "2.0.0",
       "_model_name": "HTMLModel",
       "_view_count": null,
       "_view_module": "@jupyter-widgets/controls",
       "_view_module_version": "2.0.0",
       "_view_name": "HTMLView",
       "description": "",
       "description_allow_html": false,
       "layout": "IPY_MODEL_4c43c9d9331f4623b085079299cf8e24",
       "placeholder": "​",
       "style": "IPY_MODEL_c23e0fda25f247edbf567086d7100a5e",
       "tabbable": null,
       "tooltip": null,
       "value": "vocab.txt: 100%"
      }
     },
     "e9fa78fc8ffb46d8a088d16a49f6cfe2": {
      "model_module": "@jupyter-widgets/base",
      "model_module_version": "2.0.0",
      "model_name": "LayoutModel",
      "state": {
       "_model_module": "@jupyter-widgets/base",
       "_model_module_version": "2.0.0",
       "_model_name": "LayoutModel",
       "_view_count": null,
       "_view_module": "@jupyter-widgets/base",
       "_view_module_version": "2.0.0",
       "_view_name": "LayoutView",
       "align_content": null,
       "align_items": null,
       "align_self": null,
       "border_bottom": null,
       "border_left": null,
       "border_right": null,
       "border_top": null,
       "bottom": null,
       "display": null,
       "flex": null,
       "flex_flow": null,
       "grid_area": null,
       "grid_auto_columns": null,
       "grid_auto_flow": null,
       "grid_auto_rows": null,
       "grid_column": null,
       "grid_gap": null,
       "grid_row": null,
       "grid_template_areas": null,
       "grid_template_columns": null,
       "grid_template_rows": null,
       "height": null,
       "justify_content": null,
       "justify_items": null,
       "left": null,
       "margin": null,
       "max_height": null,
       "max_width": null,
       "min_height": null,
       "min_width": null,
       "object_fit": null,
       "object_position": null,
       "order": null,
       "overflow": null,
       "padding": null,
       "right": null,
       "top": null,
       "visibility": null,
       "width": null
      }
     },
     "eae96a1f190047ea87d87ac7a2896b00": {
      "model_module": "@jupyter-widgets/controls",
      "model_module_version": "2.0.0",
      "model_name": "ProgressStyleModel",
      "state": {
       "_model_module": "@jupyter-widgets/controls",
       "_model_module_version": "2.0.0",
       "_model_name": "ProgressStyleModel",
       "_view_count": null,
       "_view_module": "@jupyter-widgets/base",
       "_view_module_version": "2.0.0",
       "_view_name": "StyleView",
       "bar_color": null,
       "description_width": ""
      }
     },
     "ede3b1514ae54606920c252c5dd80419": {
      "model_module": "@jupyter-widgets/controls",
      "model_module_version": "2.0.0",
      "model_name": "HBoxModel",
      "state": {
       "_dom_classes": [],
       "_model_module": "@jupyter-widgets/controls",
       "_model_module_version": "2.0.0",
       "_model_name": "HBoxModel",
       "_view_count": null,
       "_view_module": "@jupyter-widgets/controls",
       "_view_module_version": "2.0.0",
       "_view_name": "HBoxView",
       "box_style": "",
       "children": [
        "IPY_MODEL_9db40d30513f4eec9bffbbe527615097",
        "IPY_MODEL_c3ac275095b64988937f2027a0744844",
        "IPY_MODEL_dfe2db51947b4fe195a649432ff70463"
       ],
       "layout": "IPY_MODEL_17f31381f5604573a21d3269f677d488",
       "tabbable": null,
       "tooltip": null
      }
     },
     "f1f40fd83a584f1aa19d2d69da5b1741": {
      "model_module": "@jupyter-widgets/controls",
      "model_module_version": "2.0.0",
      "model_name": "FloatProgressModel",
      "state": {
       "_dom_classes": [],
       "_model_module": "@jupyter-widgets/controls",
       "_model_module_version": "2.0.0",
       "_model_name": "FloatProgressModel",
       "_view_count": null,
       "_view_module": "@jupyter-widgets/controls",
       "_view_module_version": "2.0.0",
       "_view_name": "ProgressView",
       "bar_style": "success",
       "description": "",
       "description_allow_html": false,
       "layout": "IPY_MODEL_670f1df81ad943a2b17d534163d08ab5",
       "max": 466062.0,
       "min": 0.0,
       "orientation": "horizontal",
       "style": "IPY_MODEL_2e1ce7c6f68f482187b0e78bcce3fe60",
       "tabbable": null,
       "tooltip": null,
       "value": 466062.0
      }
     },
     "fd29528fe7ec4c71921c52070da74442": {
      "model_module": "@jupyter-widgets/controls",
      "model_module_version": "2.0.0",
      "model_name": "HTMLStyleModel",
      "state": {
       "_model_module": "@jupyter-widgets/controls",
       "_model_module_version": "2.0.0",
       "_model_name": "HTMLStyleModel",
       "_view_count": null,
       "_view_module": "@jupyter-widgets/base",
       "_view_module_version": "2.0.0",
       "_view_name": "StyleView",
       "background": null,
       "description_width": "",
       "font_size": null,
       "text_color": null
      }
     }
    },
    "version_major": 2,
    "version_minor": 0
   }
  }
 },
 "nbformat": 4,
 "nbformat_minor": 5
}
